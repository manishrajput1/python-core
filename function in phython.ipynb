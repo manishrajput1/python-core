{
 "cells": [
  {
   "cell_type": "code",
   "execution_count": 7,
   "metadata": {},
   "outputs": [
    {
     "name": "stdout",
     "output_type": "stream",
     "text": [
      "Enter your account number:1001\n",
      "········\n",
      "you have logged in successfull\n"
     ]
    }
   ],
   "source": [
    "data = {\n",
    "    \n",
    "    1001:{'name':'manish','password':'mann'},\n",
    "    1002:{'name':'ram','password':'awtar'}\n",
    "    \n",
    "}\n",
    "def login(acc,password):\n",
    "    user_info = data.get(acc,False)\n",
    "    if user_info:\n",
    "        if password==user_info.get('password'):\n",
    "            return user_info\n",
    "        else:\n",
    "            False\n",
    "    else:\n",
    "        return False\n",
    "from getpass import getpass\n",
    "def main():\n",
    "    acc=int(input(\"Enter your account number:\"))\n",
    "    p = getpass()\n",
    "    d = login(acc,p)\n",
    "    if d:\n",
    "        print(\"you have logged in successfull\")\n",
    "    else:\n",
    "        print(\"invalid user or password\")\n",
    "main()"
   ]
  },
  {
   "cell_type": "code",
   "execution_count": 3,
   "metadata": {},
   "outputs": [
    {
     "name": "stdout",
     "output_type": "stream",
     "text": [
      "enter the accounter no.1002\n",
      "········\n",
      "you have logged in successful:\n"
     ]
    }
   ],
   "source": [
    "data={\n",
    "    1001:{'name':'manish','password':'manish'},\n",
    "    1002:{'name':'aaru','password':'arnav'}\n",
    "    }\n",
    "def login(acc,password):\n",
    "    user_info = data.get(acc,False)\n",
    "    if user_info:\n",
    "        if password == user_info.get('password',False):\n",
    "            return user_info\n",
    "        else:\n",
    "            False\n",
    "    else:\n",
    "        return False\n",
    "from getpass import getpass\n",
    "def main():\n",
    "    acc=int(input(\"enter the accounter no.\"))\n",
    "    p=getpass()\n",
    "    d=login(acc,p)\n",
    "    if d:\n",
    "        print(\"you have logged in successful:\")\n",
    "    else:\n",
    "        print(\"invalid user name or password\")\n",
    "main()\n",
    "        \n",
    "    "
   ]
  },
  {
   "cell_type": "code",
   "execution_count": 2,
   "metadata": {},
   "outputs": [
    {
     "name": "stdout",
     "output_type": "stream",
     "text": [
      "person is valid\n"
     ]
    }
   ],
   "source": [
    "\n",
    "def get_data(age):\n",
    "    if age>18:\n",
    "        print(\"person is valid\")\n",
    "    else:\n",
    "        print(\"invalid\")\n",
    "        \n",
    "get_data(20)"
   ]
  },
  {
   "cell_type": "code",
   "execution_count": 3,
   "metadata": {},
   "outputs": [],
   "source": [
    "data={\n",
    "    1001:{'user_name':'ram','password':'123ram','balance':'25000','ph_no':'1254','address':'jaipur','email':'ram@gmail.com'},\n",
    "    1002:{'user_name':'shyam','password':'123shyam','balance':'35000','ph_no':'6789','address':'jaipur','email':'shyam@gmail.com'},\n",
    "    1003:{'user_name':'mohan','password':'123mohan','balance':'45000','ph_no':'12345','address':'delhi','email':'mohan@gmail.com'}\n",
    "    \n",
    "    \n",
    "}\n",
    "\n",
    "def main():\n",
    "    choice=['1','2','3']\n",
    "    choice=int(input(\"Enter your choice[1,2,3]:...\"))\n",
    "    def login(acc,password):\n",
    "        user_info = data.get(acc,False)\n",
    "    if user_info:\n",
    "        if password == user_info.get('password',False):\n",
    "            return user_info\n",
    "        else:\n",
    "            False\n",
    "    else:\n",
    "        return False\n",
    "        acc=int(input(\"Enter your a/c no:...\"))\n",
    "    def signup(acc,password):\n",
    "        user_info = data.get(acc,False)\n",
    "    if user_info:\n",
    "        if pasword ==vuser_info.get('password',False):\n",
    "            return acc\n",
    "        else:\n",
    "            False\n",
    "    else:\n",
    "        return main()\n",
    "    user_name = input(\"Enter your user_name:...\")\n",
    "    password = input(\"Enter your password:...\")\n",
    "    bal = int(input(\"Enter your balance:...\"))\n",
    "    email = input(\"Enter your email:...\")\n",
    "    def exit():\n",
    "        main()\n",
    "      \n",
    "            \n",
    "    if choice==1:\n",
    "        login()\n",
    "    elif choice==2:\n",
    "        signup()\n",
    "    else:\n",
    "        exit()\n",
    "    "
   ]
  },
  {
   "cell_type": "code",
   "execution_count": null,
   "metadata": {},
   "outputs": [],
   "source": []
  }
 ],
 "metadata": {
  "kernelspec": {
   "display_name": "Python 3",
   "language": "python",
   "name": "python3"
  },
  "language_info": {
   "codemirror_mode": {
    "name": "ipython",
    "version": 3
   },
   "file_extension": ".py",
   "mimetype": "text/x-python",
   "name": "python",
   "nbconvert_exporter": "python",
   "pygments_lexer": "ipython3",
   "version": "3.7.0"
  }
 },
 "nbformat": 4,
 "nbformat_minor": 2
}
