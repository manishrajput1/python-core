{
 "cells": [
  {
   "cell_type": "code",
   "execution_count": 1,
   "metadata": {},
   "outputs": [
    {
     "name": "stdout",
     "output_type": "stream",
     "text": [
      "enter any character...h\n",
      "h is a alphabet....\n"
     ]
    }
   ],
   "source": [
    "# a character is alphabet or not\n",
    "char=input(\"enter any character...\")\n",
    "if char>='a' and char<='z' or char>='A' and char<='Z': \n",
    "    print(\"{} is a alphabet....\".format(char))\n",
    "else:\n",
    "    print(\"you entered a string or number plz enter alphabet....\")"
   ]
  },
  {
   "cell_type": "code",
   "execution_count": null,
   "metadata": {},
   "outputs": [],
   "source": [
    "# A year is leap or not \n",
    "year=int(input(\"Enter a year:..\"))\n",
    "if year % 100:\n",
    "    if year %4:\n",
    "            print(\"{} is not a leap year\".format(year))\n",
    "    else:\n",
    "         print(\"{} is leap year\".format(year))\n",
    "else:\n",
    "    if year % 400 :\n",
    "        print(\"{} is not leap year\".format(year))\n",
    "    else:\n",
    "        print(\"{} is leap yaer\".format(year))"
   ]
  },
  {
   "cell_type": "code",
   "execution_count": null,
   "metadata": {},
   "outputs": [],
   "source": [
    "# A number is devided by 5 or 11\n",
    "n=int(input(\"enter any number\"))\n",
    "if (n%5==0 and n%11==0):\n",
    "            print(\"{} is devided by 5 and 11\".format(n))\n",
    "else:\n",
    "            print(\"you entered wrong number plz try again.....\")"
   ]
  },
  {
   "cell_type": "code",
   "execution_count": null,
   "metadata": {},
   "outputs": [],
   "source": [
    "# A number is even or odd\n",
    "n=int(input(\"enter any number:\"))\n",
    "if n%2==0:\n",
    "    print(\"entered number is 'even'....\")\n",
    "else:\n",
    "    print(\"enetered number is 'odd'...\")"
   ]
  },
  {
   "cell_type": "code",
   "execution_count": null,
   "metadata": {},
   "outputs": [],
   "source": [
    "# A is negative positive or zero\n",
    "a=int(input(\"enter the value of a:\"))\n",
    "if a<0:\n",
    "    print(\"a is negative value....\")\n",
    "elif a==0:\n",
    "    print(\"a is zero......\")\n",
    "else:\n",
    "    print(\"a is positive value\")"
   ]
  },
  {
   "cell_type": "code",
   "execution_count": null,
   "metadata": {},
   "outputs": [],
   "source": [
    "# A value is number alphabet or special character\n",
    "a=input(\"enter any alphabet, digit or special character:...\")\n",
    "if a>='a' and a<='z' or a>='A' and a<='Z':\n",
    "    print(\"{} is a alphabet :.... \".format(a))\n",
    "elif a>='0' and a<='9999999':\n",
    "    print(\"{} is a digit..\".format(a))\n",
    "else:\n",
    "    print(\"{} is a special character....\".format(a))"
   ]
  },
  {
   "cell_type": "code",
   "execution_count": 1,
   "metadata": {},
   "outputs": [
    {
     "name": "stdout",
     "output_type": "stream",
     "text": [
      "Enter the elecricity unit:...171\n",
      "the total bill will be 239.39999999999998\n"
     ]
    }
   ],
   "source": [
    "# calcilate electricity bill\n",
    "unit=int(input(\"Enter the elecricity unit:...\"))\n",
    "if unit<=50:\n",
    "    bill=unit*0.5+unit*20/100\n",
    "    print(\"the total bill will be {}\".format(bill))\n",
    "elif 50<=unit<=150:\n",
    "    bill=unit*0.75+unit*20/100\n",
    "    print(\"the total bill will be {}\".format(bill))\n",
    "elif 150<=unit<=250:\n",
    "    bill=unit*1.20+unit*20/100    \n",
    "    print(\"the total bill will be {}\".format(bill))\n",
    "else:\n",
    "    bill=unit*1.50+unit*20/100\n",
    "    print(\"the total bill will be {}\".format(bill))\n",
    "    "
   ]
  },
  {
   "cell_type": "code",
   "execution_count": null,
   "metadata": {},
   "outputs": [],
   "source": [
    "# calculate grade in marks \n",
    "a=int(input(\"Enter mark of chemistri\"))\n",
    "b=int(input(\"Enter mark of physics\"))\n",
    "c=int(input(\"Enter mark of biology\"))\n",
    "d=int(input(\"Enter mark of mathematics\"))\n",
    "e=int(input(\"Enter mark of computer\"))\n",
    "sum=(a+b+c+d+e)/5\n",
    "print(\"total percentage is..{} \".format(sum))\n",
    "if ((a+b+c+d+e)/5>=90):\n",
    "    print(\"grade 'A' \")\n",
    "elif((a+b+c+d+e)/5>=80):\n",
    "    print(\"grade 'B'\")\n",
    "elif((a+b+c+d+e)/5>=70):\n",
    "    print(\"grade 'C'\")\n",
    "elif((a+b+c+d+e)/5>=60):\n",
    "    print(\"grade 'D'\")\n",
    "elif((a+b+c+d+e)/5>=40):\n",
    "    print(\"grade 'E'\")\n",
    "else:\n",
    "    print(\"grade 'f'\")\n",
    "\n"
   ]
  },
  {
   "cell_type": "code",
   "execution_count": 1,
   "metadata": {},
   "outputs": [
    {
     "name": "stdout",
     "output_type": "stream",
     "text": [
      "enter a alphabetg\n",
      "you entered a 'consonant'.....\n"
     ]
    }
   ],
   "source": [
    "# check it vowels or consonant\n",
    "n=input(\"enter a alphabet\")\n",
    "if n in ('a','e','i','o','u'):\n",
    "    print(\"you entered a 'vowel'....\")\n",
    "else:\n",
    "    print(\"you entered a 'consonant'.....\")"
   ]
  },
  {
   "cell_type": "code",
   "execution_count": null,
   "metadata": {},
   "outputs": [],
   "source": [
    "# find all root of quadratic equation\n",
    "from math import sqrt\n",
    "a=int(input(\"enter the value of a...\"))\n",
    "b=int(input(\"enter the value of b...\"))\n",
    "c=int(input(\"enter the value of c..\"))\n",
    "d = (b**2)- (4*a*c)\n",
    "ans1 = (-b-sqrt(d))/(2*a)\n",
    "ans2 = (-b+sqrt(d))/(2*a)\n",
    "print(\"the equation answer are {} and {} \".format(ans1,ans2))"
   ]
  },
  {
   "cell_type": "code",
   "execution_count": null,
   "metadata": {},
   "outputs": [],
   "source": [
    "# find maximum in three number\n",
    "a=int(input(\"enter the value of a:\"))\n",
    "b=int(input(\"enter the value of b:\"))\n",
    "c=int(input(\"enter the value of c:\")) \n",
    "if a>b and a>c:\n",
    "    print(\"a is largest value...\")\n",
    "elif b>a and b>c:\n",
    "    print(\"b is largest value...\")\n",
    "else:\n",
    "    print(\"c is largest value...\")\n",
    "    "
   ]
  },
  {
   "cell_type": "code",
   "execution_count": null,
   "metadata": {},
   "outputs": [],
   "source": [
    "#find maximum in two number\n",
    "a=int(input(\"enter the value of a:\"))\n",
    "b=int(input(\"enter the value of b:\"))\n",
    "if a>b:\n",
    "    print(\"a is greater then b...\")\n",
    "else:\n",
    "    print(\"b is greater then a\")"
   ]
  },
  {
   "cell_type": "code",
   "execution_count": null,
   "metadata": {},
   "outputs": [],
   "source": [
    "#give all side and find triangle is valid or not\n",
    "x=int(input(\"Enter first side:...\"))\n",
    "y=int(input(\"Enter second side:...\"))\n",
    "z=int(input(\"Enter third side:...\"))\n",
    "if (x+y<=z):\n",
    "    print(\"triangle is not valid...\")\n",
    "elif (x+z<=y):\n",
    "    print(\"triangle is not valid\")\n",
    "elif(y+z<=x):\n",
    "    print(\"triangle is not valid\")\n",
    "else:\n",
    "    print(\"triangle is valid\")"
   ]
  },
  {
   "cell_type": "code",
   "execution_count": null,
   "metadata": {},
   "outputs": [],
   "source": [
    "# input month number and print day\n",
    "data = {1 : 31, 2 : '28\\29', 3 : 31, 4 : 30 , 5 : 31 , 6 : 30 , 7 : 31, 8 : 31 , 9 : 30 , 10 : 31 , 11 : 30 , 12 : 31}\n",
    "key=int(input(\"enter month number:..\"))\n",
    "value = data.get(key,)\n",
    "if value:\n",
    "    print(\"number of days in month {} are {}\".format(key,value))\n",
    "else:\n",
    "    print(\"invalid month\")"
   ]
  },
  {
   "cell_type": "code",
   "execution_count": null,
   "metadata": {},
   "outputs": [],
   "source": [
    "# input week number and print day\n",
    "data = {0 : 'sunday' ,1 :'monday',2 : 'tuesday', 3 : 'wednesday', 4 : 'thrusday', 5 : 'friday', 6 : 'saturday', 7 : 'sunday', }\n",
    "key=int(input(\"Enter the week day:...\"))\n",
    "value=data.get(key,)\n",
    "if value:\n",
    "    print(\" week day {} will be {}\".format(key,value))\n",
    "else:\n",
    "    print(\"invalid day:..\")"
   ]
  },
  {
   "cell_type": "code",
   "execution_count": null,
   "metadata": {},
   "outputs": [],
   "source": [
    "# triangle is equilateral scalena and isosceles\n",
    "x=int(input(\"enter length of first side:.. \"))\n",
    "y=int(input(\"enter length of second side:.. \"))\n",
    "z=int(input(\"enter length of third side:.. \"))\n",
    "if x==y==z:\n",
    "    print(\"triangle is equilateral...\")\n",
    "elif x != y != z:\n",
    "    print(\"triange is scalena...\")\n",
    "else:\n",
    "    print(\"triangle is isosceles....\")"
   ]
  },
  {
   "cell_type": "code",
   "execution_count": null,
   "metadata": {},
   "outputs": [],
   "source": [
    "# triangle is valid or not\n",
    "x=int(input(\"Enter value of first angle:...\"))\n",
    "y=int(input(\"Enter value of second angle:...\"))\n",
    "z=int(input(\"Enter value of third angle:...\"))\n",
    "if (x+y+z==180):\n",
    "    print(\"triangle is valid....\")\n",
    "else:\n",
    "     print(\"triangle is not valid\")"
   ]
  },
  {
   "cell_type": "code",
   "execution_count": null,
   "metadata": {},
   "outputs": [],
   "source": [
    "# to check a is uppercase or lowercase\n",
    "text=input(\"enter any text\")\n",
    "if text>='a' and text<='z':\n",
    "    print(\"{} is lower case\".format(text))\n",
    "elif text>='A' and text<='Z':\n",
    "    print(\"{} is upper case\".format(text))\n",
    "else:\n",
    "    print(\"invalid character\")\n",
    "    "
   ]
  },
  {
   "cell_type": "code",
   "execution_count": null,
   "metadata": {},
   "outputs": [],
   "source": [
    "# to find note in given amount\n",
    "amount=int(input(\"Enter the amount:....\"))\n",
    "two=amount//2000\n",
    "remtwo=amount%2000\n",
    "fivehundred=remtwo//500\n",
    "remfivehundred=remtwo%500\n",
    "twohundred=remfivehundred//200\n",
    "remtwohundred=remfivehundred%200\n",
    "if amount%2000:\n",
    "    print(\"two thousand note will be {}\".format(two))\n",
    "    if fivehundred%500:\n",
    "        print(\"5 hundred note will be {}\".format(fivehundred))\n",
    "        if twohundred%200:\n",
    "            print(\"2 hundred note will be {}\".format(twohundred))\n",
    "        else:\n",
    "            print(\"only two hundred note will be {}\".format(twohundred))\n",
    "        \n",
    "    else:\n",
    "        print(\" only five hundred note will {}\".format(fivehundred))\n",
    "else:\n",
    "    print(\"only two thousand note will be {}\".format(two))\n",
    "    "
   ]
  },
  {
   "cell_type": "code",
   "execution_count": 7,
   "metadata": {},
   "outputs": [
    {
     "name": "stdout",
     "output_type": "stream",
     "text": [
      "enter actual price....500\n",
      "Enter sales price....600\n",
      " 100.0 will be profit..\n"
     ]
    }
   ],
   "source": [
    "# find profit or loss\n",
    "actual_price=float(input(\"enter actual price....\"))\n",
    "sales_price=float(input(\"Enter sales price....\"))\n",
    "profit=actual_price - sales_price \n",
    "loss= sales_price - actual_price \n",
    "if (actual_price < sales_price):\n",
    "    print(\" {} will be profit..\".format(loss))\n",
    "elif (actual_price > sales_price):\n",
    "    print(\"{} will be loss..\".format(profit))\n",
    "else:\n",
    "      print(\"no profit or no loss\")"
   ]
  },
  {
   "cell_type": "code",
   "execution_count": 11,
   "metadata": {},
   "outputs": [
    {
     "ename": "SyntaxError",
     "evalue": "invalid syntax (<ipython-input-11-e4fdbca8b108>, line 5)",
     "output_type": "error",
     "traceback": [
      "\u001b[1;36m  File \u001b[1;32m\"<ipython-input-11-e4fdbca8b108>\"\u001b[1;36m, line \u001b[1;32m5\u001b[0m\n\u001b[1;33m    if x=paper and y=rock:\u001b[0m\n\u001b[1;37m        ^\u001b[0m\n\u001b[1;31mSyntaxError\u001b[0m\u001b[1;31m:\u001b[0m invalid syntax\n"
     ]
    }
   ],
   "source": [
    "import random \n",
    "# rock paper scissor\n",
    "x=input(\"enter a option\")\n",
    "l=['r','s','p']\n",
    "com = random.l(1)\n",
    "player=input(\"Enter \")\n",
    "\n"
   ]
  },
  {
   "cell_type": "code",
   "execution_count": 11,
   "metadata": {},
   "outputs": [
    {
     "name": "stdout",
     "output_type": "stream",
     "text": [
      "0b10100111101010111011\n"
     ]
    }
   ],
   "source": [
    "name= 686779\n",
    "\n",
    "c= bin(name)\n",
    "print(c)"
   ]
  },
  {
   "cell_type": "code",
   "execution_count": 13,
   "metadata": {},
   "outputs": [
    {
     "name": "stdout",
     "output_type": "stream",
     "text": [
      "enter your player...s\n",
      "your player  s\n",
      "computer choise: p\n",
      "you won\n"
     ]
    }
   ],
   "source": [
    "#rock paper sciessor \n",
    "p1=[('r','s'),('s','p'),('p','r')]\n",
    "import random\n",
    "choice=['r','p','s']\n",
    "com=random.choice(choice)\n",
    "player=input(\"enter your player...\").strip()\n",
    "won=(player,com)\n",
    "print(\"your player \",player)\n",
    "print(\"computer choise:\",com)\n",
    "if won in p1:\n",
    "    print(\"you won\")\n",
    "elif com==player:\n",
    "    print(\"match tie\")\n",
    "else:\n",
    "    print(\"you looser\")"
   ]
  },
  {
   "cell_type": "code",
   "execution_count": null,
   "metadata": {},
   "outputs": [],
   "source": [
    "p1=[('r','s'),('p','r'),('s','p')]\n",
    "import random\n",
    "choice=['r','p','s']\n",
    "com=random.choice(choice)\n",
    "player=input(\"enter your player:..\")\n",
    "won=(player,com)\n",
    "print(\"your player is:\",player)\n",
    "print(\"computer player is:\",com)\n",
    "if won in p1:\n",
    "    print(\"you are won the match\")\n",
    "elif player==com:\n",
    "    print(\"match tie\")\n",
    "else:\n",
    "    print(\"you such a looser\")\n",
    "    "
   ]
  },
  {
   "cell_type": "code",
   "execution_count": null,
   "metadata": {},
   "outputs": [],
   "source": []
  },
  {
   "cell_type": "code",
   "execution_count": 5,
   "metadata": {},
   "outputs": [
    {
     "ename": "SyntaxError",
     "evalue": "invalid syntax (<ipython-input-5-c12e0d57042e>, line 2)",
     "output_type": "error",
     "traceback": [
      "\u001b[1;36m  File \u001b[1;32m\"<ipython-input-5-c12e0d57042e>\"\u001b[1;36m, line \u001b[1;32m2\u001b[0m\n\u001b[1;33m    for i in range[10]\u001b[0m\n\u001b[1;37m                      ^\u001b[0m\n\u001b[1;31mSyntaxError\u001b[0m\u001b[1;31m:\u001b[0m invalid syntax\n"
     ]
    }
   ],
   "source": [
    "import random\n",
    "for i in range[10]\n",
    "ch=random.redint(i)\n",
    "print(ch)"
   ]
  },
  {
   "cell_type": "code",
   "execution_count": null,
   "metadata": {},
   "outputs": [],
   "source": [
    "from random import randint\n",
    "k=[randint(1,9) for var in range(6)]\n",
    "print(k)"
   ]
  },
  {
   "cell_type": "code",
   "execution_count": null,
   "metadata": {},
   "outputs": [],
   "source": [
    "s=(\"hello jeet\")\n",
    "print(s)\n",
    "r=\"my name is jeet\"\n",
    "e=s.center(50)\n",
    "l=j.center(50,'__')"
   ]
  },
  {
   "cell_type": "code",
   "execution_count": 1,
   "metadata": {},
   "outputs": [
    {
     "name": "stdout",
     "output_type": "stream",
     "text": [
      "Enter year : 1900\n",
      "Not Leap Year\n"
     ]
    }
   ],
   "source": [
    "year = int(input(\"Enter year : \"))\n",
    "if ( year % 4 == 0  ) and ( year % 100 or year % 400 == 0) : \n",
    "    print(\"Leap Year\")\n",
    "else : \n",
    "    print(\"Not Leap Year\")"
   ]
  },
  {
   "cell_type": "code",
   "execution_count": 3,
   "metadata": {},
   "outputs": [
    {
     "name": "stdout",
     "output_type": "stream",
     "text": [
      "Player1: ········\n",
      "Player2: ········\n",
      "Player1 is the Winner\n",
      "choice of player1 = r and choice of player2 = s \n"
     ]
    }
   ],
   "source": [
    "p1 = [ ('r','s'),('p','r'),('s','p')]\n",
    "from getpass import getpass\n",
    "ch1 = getpass(\"Player1: \")\n",
    "ch2 = getpass(\"Player2: \")\n",
    "if ch1 == ch2 : \n",
    "    print(\"Match Tie\")\n",
    "elif (ch1,ch2) in p1 :\n",
    "    print(\"Player1 is the Winner\")\n",
    "else :\n",
    "    print(\"Player2 is the Winner\")\n",
    "print(\"choice of player1 = {} and choice of player2 = {} \".format(ch1,ch2))"
   ]
  },
  {
   "cell_type": "code",
   "execution_count": null,
   "metadata": {},
   "outputs": [],
   "source": [
    "from random import randint\n",
    "k=[randint(1,9) for var in range(6)]\n",
    "print(k)"
   ]
  },
  {
   "cell_type": "code",
   "execution_count": null,
   "metadata": {},
   "outputs": [],
   "source": []
  }
 ],
 "metadata": {
  "kernelspec": {
   "display_name": "Python 3",
   "language": "python",
   "name": "python3"
  },
  "language_info": {
   "codemirror_mode": {
    "name": "ipython",
    "version": 3
   },
   "file_extension": ".py",
   "mimetype": "text/x-python",
   "name": "python",
   "nbconvert_exporter": "python",
   "pygments_lexer": "ipython3",
   "version": "3.7.0"
  }
 },
 "nbformat": 4,
 "nbformat_minor": 2
}
