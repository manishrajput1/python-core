{
 "cells": [
  {
   "cell_type": "code",
   "execution_count": 5,
   "metadata": {},
   "outputs": [
    {
     "name": "stdout",
     "output_type": "stream",
     "text": [
      "Enter the value of row:7\n",
      "*******\n",
      " ******\n",
      "  *****\n",
      "   ****\n",
      "    ***\n",
      "     **\n",
      "      *\n",
      "       \n"
     ]
    }
   ],
   "source": [
    "num=int(input(\"Enter the value of row:\"))\n",
    "c=0\n",
    "while c<=num:\n",
    "    print(\" \"*c,end='')\n",
    "    print(\"*\"*(num-c))\n",
    "    c = c +1"
   ]
  },
  {
   "cell_type": "code",
   "execution_count": 11,
   "metadata": {},
   "outputs": [
    {
     "name": "stdout",
     "output_type": "stream",
     "text": [
      "Enter the value of r11\n",
      "  *  *  *  *  *  *  *  *  *  *  *\n",
      "  *  *  *  *  *  *  *  *  *  *  *\n",
      "  *  *  *  *  *  *  *  *  *  *  *\n",
      "  *  *  *  *  *  *  *  *  *  *  *\n",
      "  *  *  *  *  *  *  *  *  *  *  *\n",
      "  *  *  *  *  *  *  *  *  *  *  *\n",
      "  *  *  *  *  *  *  *  *  *  *  *\n",
      "  *  *  *  *  *  *  *  *  *  *  *\n",
      "  *  *  *  *  *  *  *  *  *  *  *\n",
      "  *  *  *  *  *  *  *  *  *  *  *\n",
      "  *  *  *  *  *  *  *  *  *  *  *\n",
      "  *  *  *  *  *  *  *  *  *  *  *\n"
     ]
    }
   ],
   "source": [
    "num=int(input(\"Enter the value of r\"))\n",
    "c=0\n",
    "while c<=num:\n",
    "    print(\"  *\"*num)\n",
    "    c=c+1"
   ]
  },
  {
   "cell_type": "code",
   "execution_count": 8,
   "metadata": {},
   "outputs": [],
   "source": [
    "def pyramid(rows):\n",
    "    for i in range(rows):\n",
    "        print(' '*(rows-i-1)+'* '*(i+1))\n",
    "    for j in range(rows-1,0,-1):\n",
    "        print(' '(rows-j)+'* '*(j))"
   ]
  },
  {
   "cell_type": "code",
   "execution_count": 1,
   "metadata": {},
   "outputs": [],
   "source": [
    "def pyramid(rows):\n",
    "    for i in range(rows):\n",
    "        print(''*(rows-i-1)+'* '*(i+1))\n",
    "    for j in range(rows):\n",
    "        print(''(rows-j)+'* '*(j))"
   ]
  },
  {
   "cell_type": "code",
   "execution_count": 12,
   "metadata": {},
   "outputs": [
    {
     "name": "stdout",
     "output_type": "stream",
     "text": [
      "enter the value of rows7\n",
      "      * \n",
      "     * * \n",
      "    * * * \n",
      "   * * * * \n",
      "  * * * * * \n",
      " * * * * * * \n",
      "* * * * * * * \n",
      " * * * * * * \n",
      "  * * * * * \n",
      "   * * * * \n",
      "    * * * \n",
      "     * * \n",
      "      * \n"
     ]
    }
   ],
   "source": [
    "rows=int(input(\"enter the value of rows\"))\n",
    "for i in range(rows):\n",
    "    print(' '*(rows-i-1)+'* '*(i+1))\n",
    "for j in range(rows-1,0,-1):\n",
    "    print(' '*(rows-j)+'* '*(j))"
   ]
  },
  {
   "cell_type": "code",
   "execution_count": 16,
   "metadata": {},
   "outputs": [
    {
     "name": "stdout",
     "output_type": "stream",
     "text": [
      "enter :g\n"
     ]
    },
    {
     "ename": "TypeError",
     "evalue": "'str' object cannot be interpreted as an integer",
     "output_type": "error",
     "traceback": [
      "\u001b[1;31m---------------------------------------------------------------------------\u001b[0m",
      "\u001b[1;31mTypeError\u001b[0m                                 Traceback (most recent call last)",
      "\u001b[1;32m<ipython-input-16-e6511bc16b08>\u001b[0m in \u001b[0;36m<module>\u001b[1;34m\u001b[0m\n\u001b[0;32m      1\u001b[0m \u001b[0mrows\u001b[0m\u001b[1;33m=\u001b[0m\u001b[0minput\u001b[0m\u001b[1;33m(\u001b[0m\u001b[1;34m\"enter :\"\u001b[0m\u001b[1;33m)\u001b[0m\u001b[1;33m\u001b[0m\u001b[0m\n\u001b[1;32m----> 2\u001b[1;33m \u001b[1;32mfor\u001b[0m \u001b[0mi\u001b[0m \u001b[1;32min\u001b[0m \u001b[0mrange\u001b[0m\u001b[1;33m(\u001b[0m\u001b[0mrows\u001b[0m\u001b[1;33m)\u001b[0m\u001b[1;33m:\u001b[0m\u001b[1;33m\u001b[0m\u001b[0m\n\u001b[0m\u001b[0;32m      3\u001b[0m     \u001b[0mprint\u001b[0m\u001b[1;33m(\u001b[0m\u001b[1;34m' '\u001b[0m\u001b[1;33m*\u001b[0m\u001b[1;33m(\u001b[0m\u001b[0mrows\u001b[0m\u001b[1;33m-\u001b[0m\u001b[0mi\u001b[0m\u001b[1;33m-\u001b[0m\u001b[1;36m1\u001b[0m\u001b[1;33m)\u001b[0m\u001b[1;33m+\u001b[0m\u001b[1;34m'* '\u001b[0m\u001b[1;33m*\u001b[0m\u001b[1;33m(\u001b[0m\u001b[0mi\u001b[0m\u001b[1;33m+\u001b[0m\u001b[1;36m1\u001b[0m\u001b[1;33m)\u001b[0m\u001b[1;33m)\u001b[0m\u001b[1;33m\u001b[0m\u001b[0m\n\u001b[0;32m      4\u001b[0m \u001b[1;32mfor\u001b[0m \u001b[0mj\u001b[0m \u001b[1;32min\u001b[0m \u001b[0mrange\u001b[0m\u001b[1;33m(\u001b[0m\u001b[0mrows\u001b[0m\u001b[1;33m-\u001b[0m\u001b[1;36m1\u001b[0m\u001b[1;33m,\u001b[0m\u001b[1;36m0\u001b[0m\u001b[1;33m,\u001b[0m\u001b[1;33m-\u001b[0m\u001b[1;36m1\u001b[0m\u001b[1;33m)\u001b[0m\u001b[1;33m:\u001b[0m\u001b[1;33m\u001b[0m\u001b[0m\n\u001b[0;32m      5\u001b[0m     \u001b[0mprint\u001b[0m\u001b[1;33m(\u001b[0m\u001b[1;34m' '\u001b[0m\u001b[1;33m*\u001b[0m\u001b[1;33m(\u001b[0m\u001b[0mrows\u001b[0m\u001b[1;33m-\u001b[0m\u001b[0mj\u001b[0m\u001b[1;33m)\u001b[0m\u001b[1;33m+\u001b[0m\u001b[1;34m'* '\u001b[0m\u001b[1;33m*\u001b[0m\u001b[1;33m(\u001b[0m\u001b[0mj\u001b[0m\u001b[1;33m)\u001b[0m\u001b[1;33m)\u001b[0m\u001b[1;33m\u001b[0m\u001b[0m\n",
      "\u001b[1;31mTypeError\u001b[0m: 'str' object cannot be interpreted as an integer"
     ]
    }
   ],
   "source": [
    "rows=input(\"enter :\")\n",
    "for i in range(rows):\n",
    "    print(' '*(rows-i-1)+'* '*(i+1))\n",
    "for j in range(rows-1,0,-1):\n",
    "    print(' '*(rows-j)+'* '*(j))"
   ]
  },
  {
   "cell_type": "code",
   "execution_count": 32,
   "metadata": {},
   "outputs": [
    {
     "name": "stdout",
     "output_type": "stream",
     "text": [
      "enter the value of rows6\n",
      "************\n",
      "***** -*****\n",
      "**** - -****\n",
      "*** - - -***\n",
      "** - - - -**\n",
      "* - - - - -*\n"
     ]
    }
   ],
   "source": [
    "rows=int(input(\"enter the value of rows\"))\n",
    "for i in range(rows):\n",
    "    print('*'*(rows-i)+' -'*(i)+'*'*(rows-i))"
   ]
  },
  {
   "cell_type": "code",
   "execution_count": 39,
   "metadata": {},
   "outputs": [
    {
     "name": "stdout",
     "output_type": "stream",
     "text": [
      "enter the value of rows7\n",
      "-*-*-*-*-*-*-\n",
      "--*-*-*-*-*--\n",
      "---*-*-*-*---\n",
      "----*-*-*----\n",
      "-----*-*-----\n",
      "------*------\n"
     ]
    }
   ],
   "source": [
    "rows=int(input(\"enter the value of rows\"))\n",
    "for j in range(rows-1,0,-1):\n",
    "    print('-'*(rows-j)+'*-'*(j)+'-'*(rows-j-1))"
   ]
  },
  {
   "cell_type": "code",
   "execution_count": 41,
   "metadata": {},
   "outputs": [
    {
     "name": "stdout",
     "output_type": "stream",
     "text": [
      "enter the value of rows6\n",
      "* - - - - -*\n",
      "** - - - -**\n",
      "*** - - -***\n",
      "**** - -****\n",
      "***** -*****\n"
     ]
    }
   ],
   "source": [
    "rows=int(input(\"enter the value of rows\"))\n",
    "for j in range(rows-1,0,-1):\n",
    "    print('*'*(rows-j)+' -'*(j)+'*'*(rows-j))"
   ]
  },
  {
   "cell_type": "code",
   "execution_count": 47,
   "metadata": {},
   "outputs": [
    {
     "name": "stdout",
     "output_type": "stream",
     "text": [
      "enter the value of rows6\n",
      "************\n",
      "***** -*****\n",
      "**** - -****\n",
      "*** - - -***\n",
      "** - - - -**\n",
      "* - - - - -*\n",
      "* - - - - -*\n",
      "** - - - -**\n",
      "*** - - -***\n",
      "**** - -****\n",
      "***** -*****\n",
      "************\n"
     ]
    }
   ],
   "source": [
    "rows=int(input(\"enter the value of rows\"))\n",
    "for i in range(rows):\n",
    "    print('*'*(rows-i)+' -'*(i)+'*'*(rows-i))\n",
    "for j in range(rows-1,-1,-1):\n",
    "    print('*'*(rows-j)+' -'*(j)+'*'*(rows-j))"
   ]
  },
  {
   "cell_type": "code",
   "execution_count": 61,
   "metadata": {},
   "outputs": [
    {
     "name": "stdout",
     "output_type": "stream",
     "text": [
      "enter the value of rows15\n",
      "******************************\n",
      "**************  **************\n",
      "*************    *************\n",
      "************      ************\n",
      "***********        ***********\n",
      "**********          **********\n",
      "*********            *********\n",
      "********              ********\n",
      "*******                *******\n",
      "******                  ******\n",
      "*****                    *****\n",
      "****                      ****\n",
      "***                        ***\n",
      "**                          **\n",
      "*                            *\n",
      "*                            *\n",
      "**                          **\n",
      "***                        ***\n",
      "****                      ****\n",
      "*****                    *****\n",
      "******                  ******\n",
      "*******                *******\n",
      "********              ********\n",
      "*********            *********\n",
      "**********          **********\n",
      "***********        ***********\n",
      "************      ************\n",
      "*************    *************\n",
      "**************  **************\n",
      "******************************\n"
     ]
    }
   ],
   "source": [
    "rows=int(input(\"enter the value of rows\"))\n",
    "for i in range(rows):\n",
    "    print('*'*(rows-i)+'  '*(i)+'*'*(rows-i))\n",
    "for j in range(rows-1,-1,-1):\n",
    "    print('*'*(rows-j)+'  '*(j)+'*'*(rows-j))"
   ]
  },
  {
   "cell_type": "code",
   "execution_count": null,
   "metadata": {},
   "outputs": [],
   "source": [
    "row=int(input(\"Enter the value of row:\"))\n",
    "for j in range(row,0,-4):\n",
    "    print(\"*\"*(row-j))"
   ]
  },
  {
   "cell_type": "code",
   "execution_count": 176,
   "metadata": {},
   "outputs": [
    {
     "name": "stdout",
     "output_type": "stream",
     "text": [
      "        * \n",
      "        * \n",
      "        * \n",
      "        * \n",
      "* * * * * * * * * \n",
      "        * \n",
      "        * \n",
      "        * \n",
      "        * \n"
     ]
    }
   ],
   "source": [
    "for row in range(9):\n",
    "    for col in range(9):\n",
    "        if row==4 or col==8:\n",
    "            print(\"*\",end=' ')\n",
    "        else:\n",
    "            print(end=' ')\n",
    "    print()\n"
   ]
  },
  {
   "cell_type": "code",
   "execution_count": 177,
   "metadata": {},
   "outputs": [
    {
     "name": "stdout",
     "output_type": "stream",
     "text": [
      "outer loop is start:\n",
      "outer loop value 1\n",
      "inner loop value here: 1\n",
      "inner loop value here: 2\n",
      "inner loop value here: 3\n",
      "inner loop value here: 4\n",
      "inner loop value here: 5\n",
      "inner loop stop here\n",
      "outer loop value 2\n",
      "inner loop value here: 1\n",
      "inner loop value here: 2\n",
      "inner loop value here: 3\n",
      "inner loop value here: 4\n",
      "inner loop value here: 5\n",
      "inner loop stop here\n",
      "outer loop value 3\n",
      "inner loop value here: 1\n",
      "inner loop value here: 2\n",
      "inner loop value here: 3\n",
      "inner loop value here: 4\n",
      "inner loop value here: 5\n",
      "inner loop stop here\n",
      "outer loop value 4\n",
      "inner loop value here: 1\n",
      "inner loop value here: 2\n",
      "inner loop value here: 3\n",
      "inner loop value here: 4\n",
      "inner loop value here: 5\n",
      "inner loop stop here\n",
      "outer loop value 5\n",
      "inner loop value here: 1\n",
      "inner loop value here: 2\n",
      "inner loop value here: 3\n",
      "inner loop value here: 4\n",
      "inner loop value here: 5\n",
      "inner loop stop here\n",
      "outer_loop end here\n"
     ]
    }
   ],
   "source": [
    "outer_loop=1\n",
    "print(\"outer loop is start:\")\n",
    "while outer_loop<=5:\n",
    "    inner_loop=1\n",
    "    print(\"outer loop value\",outer_loop)\n",
    "    while inner_loop<=5:\n",
    "        print(\"inner loop value here:\",inner_loop)\n",
    "        inner_loop += 1\n",
    "    print(\"inner loop stop here\")\n",
    "    outer_loop += 1\n",
    "print(\"outer_loop end here\")\n",
    "        "
   ]
  },
  {
   "cell_type": "code",
   "execution_count": 185,
   "metadata": {},
   "outputs": [
    {
     "name": "stdout",
     "output_type": "stream",
     "text": [
      "*****\n",
      "*   *\n",
      "*   *\n",
      "*****\n",
      "*   *\n",
      "*   *\n",
      "*   *\n"
     ]
    }
   ],
   "source": [
    "for row in range(7):\n",
    "    for col in range(5):\n",
    "        if (col==0 or col==4) or ((row==0 or row==3) and (col>0 and col<4)):\n",
    "            print(\"*\",end=\"\")\n",
    "        else:\n",
    "            print(end=\" \")\n",
    "    print()"
   ]
  },
  {
   "cell_type": "code",
   "execution_count": 148,
   "metadata": {},
   "outputs": [
    {
     "name": "stdout",
     "output_type": "stream",
     "text": [
      "*****\n",
      "*   *\n",
      "*   *\n",
      "*****\n",
      "*   *\n",
      "*   *\n",
      "*****\n"
     ]
    }
   ],
   "source": [
    "for row in range(7):\n",
    "    for col in range(5):\n",
    "        if (col==0 or col==4) or (row==0 or row==3) or (row==6):\n",
    "            print(\"*\",end=\"\")\n",
    "        else:\n",
    "            print(end=\" \")\n",
    "    print()"
   ]
  },
  {
   "cell_type": "code",
   "execution_count": 149,
   "metadata": {},
   "outputs": [
    {
     "name": "stdout",
     "output_type": "stream",
     "text": [
      "*****\n",
      "*    \n",
      "*    \n",
      "*    \n",
      "*    \n",
      "*****\n"
     ]
    }
   ],
   "source": [
    "for row in range(6):\n",
    "    for col in range(5):\n",
    "        if (col==0) or (row==0 or row==5):\n",
    "            print(\"*\",end=\"\")\n",
    "        else:\n",
    "            print(end=\" \")\n",
    "    print()"
   ]
  },
  {
   "cell_type": "code",
   "execution_count": 193,
   "metadata": {},
   "outputs": [
    {
     "name": "stdout",
     "output_type": "stream",
     "text": [
      "*******\n",
      " *    *\n",
      " *    *\n",
      " *    *\n",
      " *    *\n",
      "*******\n"
     ]
    }
   ],
   "source": [
    "for row in range(6):\n",
    "    for col in range(7):\n",
    "        if (col==1 or col==6)or (row==0 or row==5):\n",
    "            print(\"*\",end=\"\")\n",
    "        else:\n",
    "            print(end=\" \")\n",
    "    print()"
   ]
  },
  {
   "cell_type": "code",
   "execution_count": 205,
   "metadata": {},
   "outputs": [
    {
     "name": "stdout",
     "output_type": "stream",
     "text": [
      "*****\n",
      "*    \n",
      "*    \n",
      "*****\n",
      "*    \n",
      "*    \n",
      "*****\n"
     ]
    }
   ],
   "source": [
    "for row in range(7):\n",
    "    for col in range(5):\n",
    "        if (col==0) or (row==0 or row==3 or row==6):\n",
    "            print(\"*\",end=\"\")\n",
    "        else:\n",
    "            print(end=\" \")\n",
    "    print()"
   ]
  },
  {
   "cell_type": "code",
   "execution_count": 208,
   "metadata": {},
   "outputs": [
    {
     "name": "stdout",
     "output_type": "stream",
     "text": [
      "*****\n",
      "*    \n",
      "*    \n",
      "*****\n",
      "*    \n",
      "*    \n",
      "*    \n"
     ]
    }
   ],
   "source": [
    "for row in range(7):\n",
    "    for col in range(5):\n",
    "        if (col==0) or (row==0 or row==3):\n",
    "            print(\"*\",end=\"\")\n",
    "        else:\n",
    "            print(end=\" \")\n",
    "    print()"
   ]
  },
  {
   "cell_type": "code",
   "execution_count": 5,
   "metadata": {},
   "outputs": [
    {
     "name": "stdout",
     "output_type": "stream",
     "text": [
      "***** \n",
      "*     \n",
      "*     \n",
      "*  ***\n",
      "*   * \n",
      "*   * \n",
      "***** \n"
     ]
    }
   ],
   "source": [
    "for row in range(7):\n",
    "    for col in range(6):\n",
    "        if col==0 or (col==4 and (row!=1 and row!=2)) or ((row==0 or row==6) and (col>0 and col<4)) or (row==3 and (col==3 or col==5)):\n",
    "            print(\"*\",end=\"\")\n",
    "        else:\n",
    "            print(end=\" \")\n",
    "    print()\n",
    "                        \n",
    "                    \n",
    "             "
   ]
  },
  {
   "cell_type": "code",
   "execution_count": 11,
   "metadata": {},
   "outputs": [
    {
     "name": "stdout",
     "output_type": "stream",
     "text": [
      "*   *\n",
      "*   *\n",
      "*****\n",
      "*   *\n",
      "*   *\n"
     ]
    }
   ],
   "source": [
    "for row in range(5):\n",
    "    for col in range(5):\n",
    "        if (col==0 or col==4) or (row==2):\n",
    "            print(\"*\",end=\"\")\n",
    "        else:\n",
    "            print(end=\" \")\n",
    "    print()"
   ]
  },
  {
   "cell_type": "code",
   "execution_count": 15,
   "metadata": {},
   "outputs": [
    {
     "name": "stdout",
     "output_type": "stream",
     "text": [
      "*****\n",
      "  *  \n",
      "  *  \n",
      "  *  \n",
      "*****\n"
     ]
    }
   ],
   "source": [
    "for row in range(5):\n",
    "    for col in range(5):\n",
    "        if col==2 or (row==0 or row==4):\n",
    "            print(\"*\",end=\"\")\n",
    "        else:\n",
    "            print(end=\" \")\n",
    "    print()"
   ]
  },
  {
   "cell_type": "code",
   "execution_count": 18,
   "metadata": {},
   "outputs": [
    {
     "name": "stdout",
     "output_type": "stream",
     "text": [
      "     *\n",
      "     *\n",
      "     *\n",
      "*    *\n",
      "******\n"
     ]
    }
   ],
   "source": [
    "for row in range(5):\n",
    "    for col in range(6):\n",
    "        if col==5 or row==4 or (row==3 and col==0):\n",
    "            print(\"*\",end=\"\")\n",
    "        else:\n",
    "            print(end=\" \")\n",
    "    print()"
   ]
  },
  {
   "cell_type": "code",
   "execution_count": 31,
   "metadata": {},
   "outputs": [
    {
     "name": "stdout",
     "output_type": "stream",
     "text": [
      "*    *\n",
      "*  *  \n",
      "**    \n",
      "*  *  \n",
      "*    *\n"
     ]
    }
   ],
   "source": [
    "for row in range(5):\n",
    "    for col in range(6):\n",
    "        if col==0 or (row==2 and col==1) or (row==1 and col==3) or (row==0 and col==5) or (row==3 and col==3) or (row==4 and col==5):\n",
    "            print(\"*\",end=\"\")\n",
    "        else:\n",
    "            print(end=\" \")\n",
    "    print()"
   ]
  },
  {
   "cell_type": "code",
   "execution_count": 32,
   "metadata": {},
   "outputs": [
    {
     "name": "stdout",
     "output_type": "stream",
     "text": [
      "*    \n",
      "*    \n",
      "*    \n",
      "*    \n",
      "*    \n",
      "*****\n"
     ]
    }
   ],
   "source": [
    "for row in range(6):\n",
    "    for col in range(5):\n",
    "        if (col==0) or row==5:\n",
    "            print(\"*\",end=\"\")\n",
    "        else:\n",
    "            print(end=\" \")\n",
    "    print()"
   ]
  },
  {
   "cell_type": "code",
   "execution_count": 40,
   "metadata": {},
   "outputs": [
    {
     "name": "stdout",
     "output_type": "stream",
     "text": [
      "*       *\n",
      "* *   * *\n",
      "*   *   *\n",
      "*       *\n",
      "*       *\n",
      "*       *\n"
     ]
    }
   ],
   "source": [
    "for row in range(6):\n",
    "    for col in range(9):\n",
    "        if (col==0 or col==8) or (row==1 and col==2) or (row==2 and col==4) or (row==1 and col==6):\n",
    "            print(\"*\",end=\"\")\n",
    "        else:\n",
    "            print(end=\" \")\n",
    "    print()"
   ]
  },
  {
   "cell_type": "code",
   "execution_count": 55,
   "metadata": {},
   "outputs": [
    {
     "name": "stdout",
     "output_type": "stream",
     "text": [
      "*       *\n",
      "**      *\n",
      "* *     *\n",
      "*  *    *\n",
      "*   *   *\n",
      "*    *  *\n",
      "*     * *\n",
      "*      **\n"
     ]
    }
   ],
   "source": [
    "for row in range(8):\n",
    "    for col in range(9):\n",
    "        if (col==0 or col==8) or (row==col):\n",
    "            print(\"*\",end=\"\")\n",
    "        else:\n",
    "            print(end=\" \")\n",
    "    print()"
   ]
  },
  {
   "cell_type": "code",
   "execution_count": 57,
   "metadata": {},
   "outputs": [
    {
     "name": "stdout",
     "output_type": "stream",
     "text": [
      "********\n",
      "*      *\n",
      "*      *\n",
      "*      *\n",
      "*      *\n",
      "********\n"
     ]
    }
   ],
   "source": [
    "for row in range(6):\n",
    "    for col in range(8):\n",
    "        if (col==0 or col==7) or (row==0 or row==5):\n",
    "            print(\"*\",end=\"\")\n",
    "        else:\n",
    "            print(end=\" \")\n",
    "    print()"
   ]
  },
  {
   "cell_type": "code",
   "execution_count": 61,
   "metadata": {},
   "outputs": [
    {
     "name": "stdout",
     "output_type": "stream",
     "text": [
      "******\n",
      "*    *\n",
      "*    *\n",
      "******\n",
      "*     \n",
      "*     \n",
      "*     \n",
      "*     \n"
     ]
    }
   ],
   "source": [
    "for row in range(8):\n",
    "    for col in range(6):\n",
    "        if (col==0) or (row==0 or row==3) or (row==1 and col==5) or (row==2 and col==5):\n",
    "            print(\"*\",end=\"\")\n",
    "        else:\n",
    "            print(end=\" \")\n",
    "    print()"
   ]
  },
  {
   "cell_type": "code",
   "execution_count": 68,
   "metadata": {},
   "outputs": [
    {
     "name": "stdout",
     "output_type": "stream",
     "text": [
      "********\n",
      "**     *\n",
      "* *    *\n",
      "*  *   *\n",
      "*   *  *\n",
      "********\n",
      "      * \n"
     ]
    }
   ],
   "source": [
    "for row in range(7):\n",
    "    for col in range(8):\n",
    "        if (row==0 or row==5) or (col==0 and row!=6 or col==7 and row!=6) or (col==row):\n",
    "            print(\"*\",end=\"\")\n",
    "        else:\n",
    "            print(end=\" \")\n",
    "    print()"
   ]
  },
  {
   "cell_type": "code",
   "execution_count": 82,
   "metadata": {},
   "outputs": [
    {
     "name": "stdout",
     "output_type": "stream",
     "text": [
      "*******\n",
      "*     *\n",
      "*     *\n",
      "*******\n",
      "* *    \n",
      "*   *  \n",
      "*     *\n"
     ]
    }
   ],
   "source": [
    "for row in range(7):\n",
    "    for col in range(7):\n",
    "        if (col==0 or col==6 and row<4) or (row==0 or row==3)or (row==4 and col==2) or (row==5 and col==4)or (row==6 and col==6):\n",
    "            print(\"*\",end=\"\")\n",
    "        else:\n",
    "            print(end=\" \")\n",
    "    print()"
   ]
  },
  {
   "cell_type": "code",
   "execution_count": 94,
   "metadata": {},
   "outputs": [
    {
     "name": "stdout",
     "output_type": "stream",
     "text": [
      "    *****\n",
      "    *   *\n",
      "    *    \n",
      "    *    \n",
      "*   *    \n",
      "*****    \n"
     ]
    }
   ],
   "source": [
    "for row in range(6):\n",
    "    for col in range(9):\n",
    "        if (row==0 and col>3) or (row==5 and col<4) or (col==4) or (row==1 and col==8) or (row==4 and col==0):\n",
    "            print(\"*\",end=\"\")\n",
    "        else:\n",
    "            print(end=\" \")\n",
    "    print()"
   ]
  },
  {
   "cell_type": "code",
   "execution_count": 96,
   "metadata": {},
   "outputs": [
    {
     "name": "stdout",
     "output_type": "stream",
     "text": [
      "*******\n",
      "   *   \n",
      "   *   \n",
      "   *   \n",
      "   *   \n",
      "   *   \n"
     ]
    }
   ],
   "source": [
    "for row in range(6):\n",
    "    for col in range(7):\n",
    "        if (col==3 or row==0):\n",
    "            print(\"*\",end=\"\")\n",
    "        else:\n",
    "            print(end=\" \")\n",
    "    print()"
   ]
  },
  {
   "cell_type": "code",
   "execution_count": 97,
   "metadata": {},
   "outputs": [
    {
     "name": "stdout",
     "output_type": "stream",
     "text": [
      "*    *\n",
      "*    *\n",
      "*    *\n",
      "*    *\n",
      "*    *\n",
      "******\n"
     ]
    }
   ],
   "source": [
    "for row in range(6):\n",
    "    for col in range(6):\n",
    "        if (col==0 or col==5) or (row==5):\n",
    "            print(\"*\",end=\"\")\n",
    "        else:\n",
    "            print(end=\" \")\n",
    "    print()"
   ]
  },
  {
   "cell_type": "code",
   "execution_count": 114,
   "metadata": {},
   "outputs": [
    {
     "name": "stdout",
     "output_type": "stream",
     "text": [
      " *       *\n",
      "  *     * \n",
      "   *   *  \n",
      "    * *   \n",
      "     *    \n",
      "          \n"
     ]
    }
   ],
   "source": [
    "for row in range(6):\n",
    "    for col in range(10):\n",
    "        if(row==0 and (col==1 or col==9)) or(row==1 and(col==2 or col==8)) or (row==2 and(col==3 or col==7)) or (row==3 and (col==4 or col==6)) or (row ==4 and col==5):\n",
    "            print(\"*\",end=\"\")\n",
    "        else:\n",
    "            print(end=\" \")\n",
    "    print()"
   ]
  },
  {
   "cell_type": "code",
   "execution_count": 119,
   "metadata": {},
   "outputs": [
    {
     "name": "stdout",
     "output_type": "stream",
     "text": [
      "*       *\n",
      "*       *\n",
      "*       *\n",
      "*   *   *\n",
      "* *   * *\n",
      "*       *\n"
     ]
    }
   ],
   "source": [
    "for row in range(6):\n",
    "    for col in range(9):\n",
    "        if (col==0 or col==8)or (row==4 and col==2)or (row==3 and col==4)or (row==4 and col==6):\n",
    "            print(\"*\",end=\"\")\n",
    "        else:\n",
    "            print(end=\" \")\n",
    "    print()"
   ]
  },
  {
   "cell_type": "code",
   "execution_count": 126,
   "metadata": {},
   "outputs": [
    {
     "name": "stdout",
     "output_type": "stream",
     "text": [
      "*     *\n",
      " *   * \n",
      "  * *  \n",
      "   *   \n",
      "  * *  \n",
      " *   * \n",
      "*     *\n"
     ]
    }
   ],
   "source": [
    "for row in range(7):\n",
    "    for col in range(7):\n",
    "        if (row==col)or (row==6 and col==0) or (row==5 and col==1) or (row==4 and col==2)or(row==2 and col==4) or(row==1 and col==5)or (row==0 and col==6):\n",
    "            print(\"*\",end=\"\")\n",
    "        else:\n",
    "            print(end=\" \")\n",
    "    print()\n",
    "            "
   ]
  },
  {
   "cell_type": "code",
   "execution_count": 142,
   "metadata": {},
   "outputs": [
    {
     "name": "stdout",
     "output_type": "stream",
     "text": [
      "*     *\n",
      " *   * \n",
      "  * *  \n",
      "   *   \n",
      "  *    \n",
      " *     \n",
      "       \n"
     ]
    }
   ],
   "source": [
    "i=0\n",
    "j=6\n",
    "for row in range(7):\n",
    "    for col in range(7):\n",
    "        if (col==row and col<4) or (col==2 and row==4)or (col==1 and row==5):\n",
    "            print(\"*\",end=\"\")\n",
    "        elif row==i and col==j:\n",
    "            print(\"*\",end=\"\")\n",
    "            i= i+1\n",
    "            j= j-1\n",
    "        else:\n",
    "            print(end=\" \")\n",
    "    print()"
   ]
  },
  {
   "cell_type": "code",
   "execution_count": 137,
   "metadata": {},
   "outputs": [
    {
     "name": "stdout",
     "output_type": "stream",
     "text": [
      "*******\n",
      "     * \n",
      "    *  \n",
      "   *   \n",
      "  *    \n",
      " *     \n",
      "*******\n"
     ]
    }
   ],
   "source": [
    "i=1\n",
    "j=5\n",
    "for row in range(7):\n",
    "    for col in range(7):\n",
    "        if (row==0 or row==6):\n",
    "            print(\"*\",end=\"\")\n",
    "        elif row==i and col==j:\n",
    "            print(\"*\",end=\"\")\n",
    "            i = i+1\n",
    "            j = j-1\n",
    "        else:\n",
    "            print(end=\" \")\n",
    "    print()"
   ]
  },
  {
   "cell_type": "code",
   "execution_count": 13,
   "metadata": {},
   "outputs": [
    {
     "name": "stdout",
     "output_type": "stream",
     "text": [
      "* * * * * \n",
      " * * * * *\n",
      "* * * * * \n",
      " * * * * *\n",
      "* * * * * \n"
     ]
    }
   ],
   "source": [
    "for row in range(1,6):\n",
    "    for col in range(1,6):\n",
    "        if row%2 :\n",
    "            print(\"* \",end=\"\")\n",
    "        elif row%2==0:\n",
    "            print(' '+\"*\",end=\"\")\n",
    "        else:\n",
    "            print(end=\" \")\n",
    "    print()"
   ]
  },
  {
   "cell_type": "code",
   "execution_count": 42,
   "metadata": {},
   "outputs": [
    {
     "name": "stdout",
     "output_type": "stream",
     "text": [
      "*    *\n",
      "*    *\n",
      "*    *\n",
      "******\n",
      "*    *\n",
      "*    *\n",
      "*    *\n"
     ]
    }
   ],
   "source": [
    "for j in range(6):\n",
    "    if(j==3):\n",
    "        print(\"*\"*6)\n",
    "    print(\"*\",end=\"    \")\n",
    "    print(\"*\")"
   ]
  },
  {
   "cell_type": "markdown",
   "metadata": {},
   "source": [
    "##### "
   ]
  },
  {
   "cell_type": "code",
   "execution_count": 52,
   "metadata": {},
   "outputs": [
    {
     "name": "stdout",
     "output_type": "stream",
     "text": [
      "enter the value of i:..7\n",
      "*\n",
      "**\n",
      "***\n",
      "****\n",
      "*****\n",
      "******\n"
     ]
    }
   ],
   "source": [
    "i=int(input(\"enter the value of i:..\"))\n",
    "for col in range(1,i):\n",
    "    print(\"*\"*col)\n",
    "   "
   ]
  },
  {
   "cell_type": "code",
   "execution_count": 25,
   "metadata": {},
   "outputs": [
    {
     "name": "stdout",
     "output_type": "stream",
     "text": [
      "enter the value of i:..5\n",
      "    1\n",
      "   22\n",
      "  333\n",
      " 4444\n"
     ]
    }
   ],
   "source": [
    "i=int(input(\"enter the value of i:..\"))\n",
    "for col in range(1,i):\n",
    "    print(' '*(i-col)+f\"{col}\"*col)\n"
   ]
  },
  {
   "cell_type": "code",
   "execution_count": 71,
   "metadata": {},
   "outputs": [
    {
     "name": "stdout",
     "output_type": "stream",
     "text": [
      "enter the value of i:..6\n",
      "1\n",
      "22\n",
      "333\n",
      "4444\n",
      "55555\n"
     ]
    }
   ],
   "source": [
    "i=int(input(\"enter the value of i:..\"))\n",
    "for col in range(1,i):\n",
    "    print(f'{col}'*col)"
   ]
  },
  {
   "cell_type": "code",
   "execution_count": 72,
   "metadata": {},
   "outputs": [
    {
     "name": "stdout",
     "output_type": "stream",
     "text": [
      "Enter the value of row:..6\n",
      "1\n",
      "12\n",
      "123\n",
      "1234\n",
      "12345\n",
      "123456\n"
     ]
    }
   ],
   "source": [
    "n=int(input(\"Enter the value of row:..\"))\n",
    "for i in range(1,n+1):\n",
    "    for j in range(1,i+1):\n",
    "        print(j,end=\"\")\n",
    "    print()"
   ]
  },
  {
   "cell_type": "code",
   "execution_count": 76,
   "metadata": {},
   "outputs": [
    {
     "name": "stdout",
     "output_type": "stream",
     "text": [
      "enter the value of row:..4\n",
      "1\n",
      "23\n",
      "456\n",
      "78910\n"
     ]
    }
   ],
   "source": [
    "n=int(input(\"enter the value of row:..\"))\n",
    "num=1\n",
    "for row in range(1,n+1):\n",
    "    for col in range(1,row+1):\n",
    "        print(num,end=\"\")\n",
    "        num = num+1\n",
    "    print()"
   ]
  },
  {
   "cell_type": "code",
   "execution_count": 77,
   "metadata": {},
   "outputs": [
    {
     "name": "stdout",
     "output_type": "stream",
     "text": [
      "Enter the value of row:..5\n",
      "1\n",
      "22\n",
      "333\n",
      "4444\n",
      "55555\n"
     ]
    }
   ],
   "source": [
    "n=int(input(\"Enter the value of row:..\"))\n",
    "for i in range(1,n+1):\n",
    "    for j in range(1,i+1):\n",
    "        print(i,end=\"\")\n",
    "    print()"
   ]
  },
  {
   "cell_type": "code",
   "execution_count": 3,
   "metadata": {},
   "outputs": [
    {
     "name": "stdout",
     "output_type": "stream",
     "text": [
      "Enter the no. of student...2\n",
      "name[1]: manish\n",
      "name[2]: rahul\n"
     ]
    }
   ],
   "source": [
    "names = [ ]\n",
    "n = int(input(\"Enter the no. of student...\"))\n",
    "for var in range(1, n+1):\n",
    "    name= input(f\"name[{var}]: \")\n",
    "    names.append(name)\n",
    "\n",
    "    "
   ]
  },
  {
   "cell_type": "code",
   "execution_count": 4,
   "metadata": {},
   "outputs": [
    {
     "data": {
      "text/plain": [
       "['manish', 'rahul']"
      ]
     },
     "execution_count": 4,
     "metadata": {},
     "output_type": "execute_result"
    }
   ],
   "source": [
    "names"
   ]
  },
  {
   "cell_type": "code",
   "execution_count": 6,
   "metadata": {},
   "outputs": [
    {
     "name": "stdout",
     "output_type": "stream",
     "text": [
      "Enter the value of row:..5\n",
      "1\n",
      "10\n",
      "101\n",
      "1010\n",
      "10101\n"
     ]
    }
   ],
   "source": [
    "n=int(input(\"Enter the value of row:..\"))\n",
    "for i in range(1,n+1):\n",
    "    for j in range(1,i+1):\n",
    "        if j%2:\n",
    "            print(\"1\",end=\"\")\n",
    "        else:\n",
    "            print(\"0\",end=\"\")\n",
    "    print()"
   ]
  },
  {
   "cell_type": "code",
   "execution_count": 43,
   "metadata": {},
   "outputs": [
    {
     "name": "stdout",
     "output_type": "stream",
     "text": [
      "enter the value of row:..6\n",
      "1 \n",
      "2 3 \n",
      "4 5 6 \n",
      "7 8 9 10 \n",
      "11 12 13 14 15 \n",
      "16 17 18 19 20 21 \n"
     ]
    }
   ],
   "source": [
    "n=int(input(\"enter the value of row:..\"))\n",
    "num=1\n",
    "for i in range(1,n+1):\n",
    "    for j in range(i):\n",
    "        print(num,end=\" \")\n",
    "        num=num+1\n",
    "    print()"
   ]
  },
  {
   "cell_type": "code",
   "execution_count": 56,
   "metadata": {},
   "outputs": [
    {
     "name": "stdout",
     "output_type": "stream",
     "text": [
      "enter the value of row:..6\n",
      "55555\n",
      "4444\n",
      "333\n",
      "22\n",
      "1\n",
      "\n"
     ]
    }
   ],
   "source": [
    "n=int(input(\"enter the value of row:..\"))\n",
    "for i in range(5,-1,-1):\n",
    "    for j in range(i):\n",
    "        print(i,end=\"\")\n",
    "        \n",
    "    print()\n",
    "    "
   ]
  },
  {
   "cell_type": "code",
   "execution_count": 109,
   "metadata": {},
   "outputs": [
    {
     "name": "stdout",
     "output_type": "stream",
     "text": [
      "Enter the value of row:..5\n",
      "\n",
      "1 \n",
      "2 1 \n",
      "3 2 1 \n",
      "4 3 2 1 \n"
     ]
    }
   ],
   "source": [
    "n=int(input(\"Enter the value of row:..\"))\n",
    "for i in range(n):\n",
    "    for j in range(i,0,-1):\n",
    "        print(j,end=\" \")\n",
    "    print()"
   ]
  },
  {
   "cell_type": "code",
   "execution_count": 141,
   "metadata": {},
   "outputs": [
    {
     "name": "stdout",
     "output_type": "stream",
     "text": [
      " ** ** \n",
      "*  *  *\n",
      "*     *\n",
      " *   * \n",
      "  * *  \n",
      "   *   \n"
     ]
    }
   ],
   "source": [
    "for row in range(6):\n",
    "    for col in range(7):\n",
    "        if (row==0 and col%3!=0) or (row==1 and col%3==0) or (row-col==2) or(row+col==8):\n",
    "            print(\"*\",end=\"\")\n",
    "        else:\n",
    "            print(end=\" \")\n",
    "    print()\n",
    "        "
   ]
  },
  {
   "cell_type": "code",
   "execution_count": 33,
   "metadata": {},
   "outputs": [
    {
     "name": "stdout",
     "output_type": "stream",
     "text": [
      "enter the value of rows5\n",
      "    * \n",
      "   * * \n",
      "  * * * \n",
      " * * * * \n",
      "* * * * * \n",
      " * * * * \n",
      "  * * * \n",
      "   * * \n",
      "    * \n"
     ]
    }
   ],
   "source": [
    "rows=int(input(\"enter the value of rows\"))\n",
    "for i in range(rows):\n",
    "    print(' '*(rows-i-1)+'* '*(i+1))\n",
    "for j in range(rows-1,0,-1):\n",
    "    print(' '*(rows-j)+'* '*(j))"
   ]
  },
  {
   "cell_type": "code",
   "execution_count": 19,
   "metadata": {},
   "outputs": [
    {
     "name": "stdout",
     "output_type": "stream",
     "text": [
      "Enter the num of rows:..7\n",
      "********\n",
      "*******\n",
      "******\n",
      "*****\n",
      "****\n",
      "***\n",
      "**\n",
      "*\n",
      "\n"
     ]
    }
   ],
   "source": [
    "row=int(input(\"Enter the num of rows:..\"))\n",
    "for i in range(row+1,-1,-1):\n",
    "    for j in range(i):\n",
    "        print(\"*\",end=\"\")\n",
    "    print()"
   ]
  },
  {
   "cell_type": "code",
   "execution_count": 18,
   "metadata": {},
   "outputs": [
    {
     "name": "stdout",
     "output_type": "stream",
     "text": [
      "Enter the num of rows:..5\n",
      "6 6 6 6 6 6 \n",
      "5 5 5 5 5 \n",
      "4 4 4 4 \n",
      "3 3 3 \n",
      "2 2 \n",
      "1 \n",
      "\n"
     ]
    }
   ],
   "source": [
    "row=int(input(\"Enter the num of rows:..\"))\n",
    "for i in range(row+1,-1,-1):\n",
    "    for j in range(i):\n",
    "        print(i,end=\" \")\n",
    "    print()"
   ]
  },
  {
   "cell_type": "code",
   "execution_count": 29,
   "metadata": {},
   "outputs": [
    {
     "name": "stdout",
     "output_type": "stream",
     "text": [
      "Enter the num of rows:..6\n",
      "0123456\n",
      "012345\n",
      "01234\n",
      "0123\n",
      "012\n",
      "01\n"
     ]
    }
   ],
   "source": [
    "row=int(input(\"Enter the num of rows:..\"))\n",
    "for i in range(row+1,1,-1):\n",
    "    for j in range(i):\n",
    "        print(j,end=\"\")\n",
    "    print()"
   ]
  },
  {
   "cell_type": "code",
   "execution_count": 3,
   "metadata": {},
   "outputs": [
    {
     "name": "stdout",
     "output_type": "stream",
     "text": [
      "\n",
      "1\n",
      "22\n",
      "333\n",
      "4444\n",
      "55555\n"
     ]
    }
   ],
   "source": [
    "for i in range(6):\n",
    "    for j in range(i):\n",
    "        print(i,end=\"\")\n",
    "    print()"
   ]
  },
  {
   "cell_type": "markdown",
   "metadata": {},
   "source": [
    "for i in range(6):\n",
    "    for j in range(i):\n",
    "        print(\" \"i,end=\"\")\n",
    "    print()"
   ]
  },
  {
   "cell_type": "code",
   "execution_count": 13,
   "metadata": {},
   "outputs": [
    {
     "name": "stdout",
     "output_type": "stream",
     "text": [
      "enter the value of row:7\n",
      "      * \n",
      "     * * \n",
      "    * * * \n",
      "   * * * * \n",
      "  * * * * * \n",
      " * * * * * * \n",
      "* * * * * * * \n",
      "\n"
     ]
    }
   ],
   "source": [
    "rows=int(input(\"enter the value of row:\"))\n",
    "for i in range(rows):\n",
    "    print(' '*(rows-i-1)+'* '*(i+1))\n",
    "print()"
   ]
  },
  {
   "cell_type": "code",
   "execution_count": 37,
   "metadata": {},
   "outputs": [
    {
     "name": "stdout",
     "output_type": "stream",
     "text": [
      "enter the value of i:..5\n",
      "*\n",
      "**\n",
      "***\n",
      "****\n"
     ]
    }
   ],
   "source": [
    "i=int(input(\"enter the value of i:..\"))\n",
    "for col in range(1,i):\n",
    "    print(\"*\"*col)\n",
    "   "
   ]
  },
  {
   "cell_type": "code",
   "execution_count": 1,
   "metadata": {},
   "outputs": [
    {
     "name": "stdout",
     "output_type": "stream",
     "text": [
      "Enter any number564\n",
      "the sum of digit is: 15\n"
     ]
    }
   ],
   "source": [
    "n =int(input(\"Enter any number\"))\n",
    "total = 0\n",
    "while(n>0):\n",
    "    digit = n%10\n",
    "    total = digit+total\n",
    "    n=n//10\n",
    "print(\"the sum of digit is:\",total)"
   ]
  },
  {
   "cell_type": "code",
   "execution_count": 2,
   "metadata": {},
   "outputs": [
    {
     "name": "stdout",
     "output_type": "stream",
     "text": [
      "Enter the value of a:5\n",
      "Enter the value of b:4\n",
      "the multyply of a and b will be: 20\n"
     ]
    }
   ],
   "source": [
    "a = int(input(\"Enter the value of a:\"))\n",
    "b = int(input(\"Enter the value of b:\"))\n",
    "total = 0\n",
    "for i in range(1,b+1):\n",
    "    total = total+a\n",
    "print(\"the multyply of a and b will be:\",total)"
   ]
  },
  {
   "cell_type": "code",
   "execution_count": 11,
   "metadata": {},
   "outputs": [
    {
     "name": "stdout",
     "output_type": "stream",
     "text": [
      "Enter any number4\n",
      "4 is prime number\n"
     ]
    }
   ],
   "source": [
    "num = int(input(\"Enter any number\"))\n",
    "if num ==1:\n",
    "    print(f\"{num} is not prime number\")\n",
    "for i in range(2,num):\n",
    "    if num %i ==0:\n",
    "        print(f\"{i} is not prime number\")\n",
    "    else:\n",
    "        print(f\"{i} is prime number\")\n",
    "    \n",
    "    "
   ]
  },
  {
   "cell_type": "markdown",
   "metadata": {},
   "source": [
    "#### num =  int(input(\"how many numbers:\"))\n",
    "total = 0\n",
    "for i in range(num):\n",
    "    number = int(input(\"Enter number\"))\n",
    "    total += number\n",
    "print(f\"the sum of {num} number is:\",total)\n",
    "avg = total/num\n",
    "print(f\"the average of {num} number is :\",avg)\n",
    "    \n",
    "    "
   ]
  },
  {
   "cell_type": "markdown",
   "metadata": {},
   "source": [
    "n=input(\"enter a alphabet\")\n",
    "if n in ('a','e','i','o','u'):\n",
    "    print(\"you entered a 'vowel'....\")\n",
    "else:\n",
    "    print(\"you entered a 'consonant'.....\")"
   ]
  },
  {
   "cell_type": "code",
   "execution_count": 4,
   "metadata": {},
   "outputs": [
    {
     "name": "stdout",
     "output_type": "stream",
     "text": [
      "how many numbers:3\n",
      "Enter number3\n",
      "Enter number4\n",
      "Enter number5\n",
      "the sum of 3 number is: 12\n",
      "the average of 3 number is : 4.0\n"
     ]
    }
   ],
   "source": [
    "num = int(input(\"how many numbers:\"))\n",
    "total = 0\n",
    "for i in range(num):\n",
    "    number = int(input(\"Enter number\"))\n",
    "    total += number \n",
    "print(f\"the sum of {num} number is:\",total) \n",
    "avg = total/num \n",
    "print(f\"the average of {num} number is :\",avg)"
   ]
  },
  {
   "cell_type": "code",
   "execution_count": 5,
   "metadata": {},
   "outputs": [
    {
     "name": "stdout",
     "output_type": "stream",
     "text": [
      "enter a alphabetg\n",
      "you entered a 'consonant'.....\n"
     ]
    }
   ],
   "source": [
    "n=input(\"enter a alphabet\")\n",
    "if n in ('a','e','i','o','u'):\n",
    "    print(\"you entered a 'vowel'....\")\n",
    "else:\n",
    "    print(\"you entered a 'consonant'.....\")"
   ]
  },
  {
   "cell_type": "code",
   "execution_count": 20,
   "metadata": {},
   "outputs": [
    {
     "name": "stdout",
     "output_type": "stream",
     "text": [
      "Enter any number:5\n",
      "*****\n",
      "*****\n",
      "*****\n",
      "*****\n",
      "*****\n"
     ]
    }
   ],
   "source": [
    "num = int(input(\"Enter any number:\"))\n",
    "for row in range(num):\n",
    "    print(\"*\"*num)"
   ]
  },
  {
   "cell_type": "code",
   "execution_count": 45,
   "metadata": {},
   "outputs": [
    {
     "name": "stdout",
     "output_type": "stream",
     "text": [
      "**********\n",
      "*        *\n",
      "*        *\n",
      "*        *\n",
      "*        *\n",
      "*        *\n",
      "*        *\n",
      "*        *\n",
      "*        *\n",
      "**********\n"
     ]
    }
   ],
   "source": [
    "for row in range(10):\n",
    "    for col in range(10):\n",
    "        if (row==0 or row==9) or (col==0 or col==9):\n",
    "            print(\"*\",end=\"\")\n",
    "        else:\n",
    "            print(end=\" \")\n",
    "    print()"
   ]
  },
  {
   "cell_type": "code",
   "execution_count": 63,
   "metadata": {},
   "outputs": [
    {
     "name": "stdout",
     "output_type": "stream",
     "text": [
      "\\*****\n",
      "*\\****\n",
      "**\\***\n",
      "***\\**\n",
      "****\\*\n",
      "*****\\\n"
     ]
    }
   ],
   "source": [
    "for row in range(6):\n",
    "    for col in range(6):\n",
    "        if row==col:\n",
    "            print(\"\\\\\",end=\"\")\n",
    "        else:\n",
    "            print(\"*\",end=\"\")\n",
    "        \n",
    "    print()\n",
    "   "
   ]
  },
  {
   "cell_type": "code",
   "execution_count": 6,
   "metadata": {},
   "outputs": [
    {
     "name": "stdout",
     "output_type": "stream",
     "text": [
      "enter the value of rows4\n"
     ]
    },
    {
     "ename": "TypeError",
     "evalue": "can only concatenate str (not \"int\") to str",
     "output_type": "error",
     "traceback": [
      "\u001b[1;31m---------------------------------------------------------------------------\u001b[0m",
      "\u001b[1;31mTypeError\u001b[0m                                 Traceback (most recent call last)",
      "\u001b[1;32m<ipython-input-6-a2ef1212e675>\u001b[0m in \u001b[0;36m<module>\u001b[1;34m\u001b[0m\n\u001b[0;32m      1\u001b[0m \u001b[0mrows\u001b[0m\u001b[1;33m=\u001b[0m\u001b[0mint\u001b[0m\u001b[1;33m(\u001b[0m\u001b[0minput\u001b[0m\u001b[1;33m(\u001b[0m\u001b[1;34m\"enter the value of rows\"\u001b[0m\u001b[1;33m)\u001b[0m\u001b[1;33m)\u001b[0m\u001b[1;33m\u001b[0m\u001b[0m\n\u001b[0;32m      2\u001b[0m \u001b[1;32mfor\u001b[0m \u001b[0mi\u001b[0m \u001b[1;32min\u001b[0m \u001b[0mrange\u001b[0m\u001b[1;33m(\u001b[0m\u001b[0mrows\u001b[0m\u001b[1;33m)\u001b[0m\u001b[1;33m:\u001b[0m\u001b[1;33m\u001b[0m\u001b[0m\n\u001b[1;32m----> 3\u001b[1;33m     \u001b[0mprint\u001b[0m\u001b[1;33m(\u001b[0m\u001b[1;34m' '\u001b[0m\u001b[1;33m*\u001b[0m\u001b[1;33m(\u001b[0m\u001b[0mrows\u001b[0m\u001b[1;33m-\u001b[0m\u001b[0mi\u001b[0m\u001b[1;33m-\u001b[0m\u001b[1;36m1\u001b[0m\u001b[1;33m)\u001b[0m\u001b[1;33m+\u001b[0m\u001b[1;33m(\u001b[0m\u001b[0mrows\u001b[0m\u001b[1;33m)\u001b[0m\u001b[1;33m*\u001b[0m\u001b[1;33m(\u001b[0m\u001b[0mi\u001b[0m\u001b[1;33m+\u001b[0m\u001b[1;36m1\u001b[0m\u001b[1;33m)\u001b[0m\u001b[1;33m)\u001b[0m\u001b[1;33m\u001b[0m\u001b[0m\n\u001b[0m",
      "\u001b[1;31mTypeError\u001b[0m: can only concatenate str (not \"int\") to str"
     ]
    }
   ],
   "source": [
    "rows=int(input(\"enter the value of rows\"))\n",
    "for i in range(rows):\n",
    "    print(' '*(rows-i-1)+(rows)*(i+1))"
   ]
  },
  {
   "cell_type": "code",
   "execution_count": 40,
   "metadata": {},
   "outputs": [
    {
     "name": "stdout",
     "output_type": "stream",
     "text": [
      "Enter the num of rows:..5\n",
      "    1\n",
      "   212\n",
      "  32123\n",
      " 4321234\n",
      "543212345\n"
     ]
    }
   ],
   "source": [
    "num=int(input(\"Enter the num of rows:..\"))\n",
    "for i in range(1,num+1):\n",
    "    for j in range(1,num-i+1):\n",
    "        print(end=\" \")\n",
    "    for j in range(i,0,-1):\n",
    "        print(j,end=\"\")\n",
    "    for j in range(2,i+1):\n",
    "        print(j,end=\"\")\n",
    "    print()\n",
    "        "
   ]
  },
  {
   "cell_type": "code",
   "execution_count": 9,
   "metadata": {},
   "outputs": [
    {
     "name": "stdout",
     "output_type": "stream",
     "text": [
      "A\n",
      "BB\n",
      "CCC\n",
      "DDDD\n",
      "EEEEE\n",
      "FFFFFF\n",
      "GGGGGGG\n",
      "HHHHHHHH\n",
      "IIIIIIIII\n",
      "JJJJJJJJJJ\n",
      "KKKKKKKKKKK\n",
      "LLLLLLLLLLLL\n",
      "MMMMMMMMMMMMM\n",
      "NNNNNNNNNNNNNN\n",
      "OOOOOOOOOOOOOOO\n",
      "PPPPPPPPPPPPPPPP\n",
      "QQQQQQQQQQQQQQQQQ\n",
      "RRRRRRRRRRRRRRRRRR\n",
      "SSSSSSSSSSSSSSSSSSS\n",
      "TTTTTTTTTTTTTTTTTTTT\n",
      "UUUUUUUUUUUUUUUUUUUUU\n",
      "VVVVVVVVVVVVVVVVVVVVVV\n",
      "WWWWWWWWWWWWWWWWWWWWWWW\n",
      "XXXXXXXXXXXXXXXXXXXXXXXX\n",
      "YYYYYYYYYYYYYYYYYYYYYYYYY\n",
      "ZZZZZZZZZZZZZZZZZZZZZZZZZZ\n"
     ]
    }
   ],
   "source": [
    "c = 65\n",
    "r =1\n",
    "while c<91:\n",
    "    print(chr(c)*r)\n",
    "    r += 1\n",
    "    c += 1 "
   ]
  },
  {
   "cell_type": "code",
   "execution_count": 6,
   "metadata": {},
   "outputs": [
    {
     "data": {
      "text/plain": [
       "'A'"
      ]
     },
     "execution_count": 6,
     "metadata": {},
     "output_type": "execute_result"
    }
   ],
   "source": [
    "chr(65)"
   ]
  },
  {
   "cell_type": "code",
   "execution_count": null,
   "metadata": {},
   "outputs": [],
   "source": []
  }
 ],
 "metadata": {
  "kernelspec": {
   "display_name": "Python 3",
   "language": "python",
   "name": "python3"
  },
  "language_info": {
   "codemirror_mode": {
    "name": "ipython",
    "version": 3
   },
   "file_extension": ".py",
   "mimetype": "text/x-python",
   "name": "python",
   "nbconvert_exporter": "python",
   "pygments_lexer": "ipython3",
   "version": "3.7.0"
  }
 },
 "nbformat": 4,
 "nbformat_minor": 2
}
