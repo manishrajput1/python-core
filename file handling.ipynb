{
 "cells": [
  {
   "cell_type": "code",
   "execution_count": 25,
   "metadata": {},
   "outputs": [],
   "source": [
    "open?\n"
   ]
  },
  {
   "cell_type": "code",
   "execution_count": 11,
   "metadata": {},
   "outputs": [],
   "source": [
    "fl = open('C:\\\\Users\\\\user\\\\Desktop\\\\lang.txt',mode='r')"
   ]
  },
  {
   "cell_type": "code",
   "execution_count": 15,
   "metadata": {},
   "outputs": [],
   "source": [
    "data = fl.read()"
   ]
  },
  {
   "cell_type": "code",
   "execution_count": 16,
   "metadata": {},
   "outputs": [
    {
     "name": "stdout",
     "output_type": "stream",
     "text": [
      "fortran in 1950\n",
      "algol\n",
      "lisp\n",
      "cobol\n",
      "basic in 1960\n",
      "apl\n",
      "simula in 67 first oop\n",
      "pascal in 1970\n",
      "smalltalk in 1972\n",
      "c dennis richie\n",
      "prolog\n",
      "sql\n",
      "intercal\n",
      "clu\n",
      "scheme\n",
      "visicalc\n",
      "c++ 1983\n",
      "objective-c\n",
      "perl\n",
      "haskel 1990\n",
      "phython \n",
      "brainfuck\n",
      "oak\n",
      "java\n",
      "php\n",
      "ruby\n",
      "livescript\n",
      "javascript\n",
      "c#2000\n",
      "f#\n",
      "rust\n",
      "coffescript\n"
     ]
    }
   ],
   "source": [
    "print(data)"
   ]
  },
  {
   "cell_type": "code",
   "execution_count": 17,
   "metadata": {},
   "outputs": [],
   "source": [
    "fl = open('C:\\\\Users\\\\user\\\\Desktop\\\\mark.txt')"
   ]
  },
  {
   "cell_type": "code",
   "execution_count": 18,
   "metadata": {},
   "outputs": [],
   "source": [
    "data = fl.read()"
   ]
  },
  {
   "cell_type": "code",
   "execution_count": 19,
   "metadata": {},
   "outputs": [
    {
     "name": "stdout",
     "output_type": "stream",
     "text": [
      "1\tsachin\t56\t74\t78\n",
      "2\tmeena\t66\t76\t89\n",
      "3\tjeetu\t78\t76\t89\n",
      "4\tmanish\t87\t87\t67\n",
      "5\tneha\t90\t98\t97\t\n",
      "6\tram\t89\t92\t98\t\n",
      "\n"
     ]
    }
   ],
   "source": [
    "print(data)"
   ]
  },
  {
   "cell_type": "code",
   "execution_count": 21,
   "metadata": {},
   "outputs": [],
   "source": [
    "fs = open('C:\\\\Users\\\\user\\\\Desktop\\\\student.txt',mode='a')\n",
    "    "
   ]
  },
  {
   "cell_type": "code",
   "execution_count": 27,
   "metadata": {},
   "outputs": [],
   "source": [
    "dat = fs.write('total')"
   ]
  },
  {
   "cell_type": "code",
   "execution_count": 28,
   "metadata": {},
   "outputs": [],
   "source": [
    "fs = open('C:\\\\Users\\\\user\\\\Desktop\\\\student.txt',mode='r')"
   ]
  },
  {
   "cell_type": "code",
   "execution_count": 30,
   "metadata": {},
   "outputs": [],
   "source": [
    "dat= fs.read()"
   ]
  },
  {
   "cell_type": "code",
   "execution_count": 31,
   "metadata": {},
   "outputs": [
    {
     "name": "stdout",
     "output_type": "stream",
     "text": [
      "id\tname\thindi\teng\tmath\n",
      "1\tsachin\t56\t74\t78\n",
      "2\tmeena\t66\t76\t89\n",
      "3\tjeetu\t78\t76\t89\n",
      "4\tmanish\t87\t87\t67\n",
      "5\tneha\t90\t98\t97\t\n",
      "6\tram\t89\t92\t98\t\n",
      "\n"
     ]
    }
   ],
   "source": [
    "print(dat)"
   ]
  },
  {
   "cell_type": "code",
   "execution_count": 32,
   "metadata": {},
   "outputs": [],
   "source": [
    "fs.close()"
   ]
  },
  {
   "cell_type": "code",
   "execution_count": 34,
   "metadata": {},
   "outputs": [
    {
     "ename": "ValueError",
     "evalue": "I/O operation on closed file.",
     "output_type": "error",
     "traceback": [
      "\u001b[1;31m---------------------------------------------------------------------------\u001b[0m",
      "\u001b[1;31mValueError\u001b[0m                                Traceback (most recent call last)",
      "\u001b[1;32m<ipython-input-34-ae21fcec89ee>\u001b[0m in \u001b[0;36m<module>\u001b[1;34m\u001b[0m\n\u001b[1;32m----> 1\u001b[1;33m \u001b[0mlst\u001b[0m \u001b[1;33m=\u001b[0m \u001b[0mfs\u001b[0m\u001b[1;33m.\u001b[0m\u001b[0mreadlines\u001b[0m\u001b[1;33m(\u001b[0m\u001b[1;33m)\u001b[0m\u001b[1;33m\u001b[0m\u001b[0m\n\u001b[0m",
      "\u001b[1;31mValueError\u001b[0m: I/O operation on closed file."
     ]
    }
   ],
   "source": [
    "lst = fs.readlines()"
   ]
  },
  {
   "cell_type": "code",
   "execution_count": 39,
   "metadata": {},
   "outputs": [
    {
     "ename": "FileNotFoundError",
     "evalue": "[Errno 2] No such file or directory: 'C:\\\\Users\\\\user\\\\Desktop\\\\student.txta'",
     "output_type": "error",
     "traceback": [
      "\u001b[1;31m---------------------------------------------------------------------------\u001b[0m",
      "\u001b[1;31mFileNotFoundError\u001b[0m                         Traceback (most recent call last)",
      "\u001b[1;32m<ipython-input-39-8966332021f8>\u001b[0m in \u001b[0;36m<module>\u001b[1;34m\u001b[0m\n\u001b[1;32m----> 1\u001b[1;33m \u001b[0mfl\u001b[0m  \u001b[1;33m=\u001b[0m \u001b[0mopen\u001b[0m\u001b[1;33m(\u001b[0m\u001b[1;34m'C:\\\\Users\\\\user\\\\Desktop\\\\student.txt'\u001b[0m \u001b[1;34m'a'\u001b[0m\u001b[1;33m)\u001b[0m\u001b[1;33m\u001b[0m\u001b[0m\n\u001b[0m",
      "\u001b[1;31mFileNotFoundError\u001b[0m: [Errno 2] No such file or directory: 'C:\\\\Users\\\\user\\\\Desktop\\\\student.txta'"
     ]
    }
   ],
   "source": [
    "fl  = open('C:\\\\Users\\\\user\\\\Desktop\\\\student.txt' 'a')"
   ]
  },
  {
   "cell_type": "code",
   "execution_count": 46,
   "metadata": {},
   "outputs": [],
   "source": [
    "fl.close()"
   ]
  },
  {
   "cell_type": "code",
   "execution_count": 38,
   "metadata": {},
   "outputs": [
    {
     "name": "stdout",
     "output_type": "stream",
     "text": [
      "['id\\tname\\thindi\\teng\\tmath\\n', '1\\tsachin\\t56\\t74\\t78\\n', '2\\tmeena\\t66\\t76\\t89\\n', '3\\tjeetu\\t78\\t76\\t89\\n', '4\\tmanish\\t87\\t87\\t67\\n', '5\\tneha\\t90\\t98\\t97\\t\\n', '6\\tram\\t89\\t92\\t98\\t\\n']\n"
     ]
    }
   ],
   "source": [
    "print(lst)"
   ]
  },
  {
   "cell_type": "code",
   "execution_count": 40,
   "metadata": {},
   "outputs": [
    {
     "ename": "SyntaxError",
     "evalue": "invalid syntax (<ipython-input-40-8bb76bb92866>, line 1)",
     "output_type": "error",
     "traceback": [
      "\u001b[1;36m  File \u001b[1;32m\"<ipython-input-40-8bb76bb92866>\"\u001b[1;36m, line \u001b[1;32m1\u001b[0m\n\u001b[1;33m    fl.close()|\u001b[0m\n\u001b[1;37m               ^\u001b[0m\n\u001b[1;31mSyntaxError\u001b[0m\u001b[1;31m:\u001b[0m invalid syntax\n"
     ]
    }
   ],
   "source": [
    "fl.close()|"
   ]
  },
  {
   "cell_type": "code",
   "execution_count": 41,
   "metadata": {},
   "outputs": [
    {
     "ename": "AttributeError",
     "evalue": "'list' object has no attribute 'close'",
     "output_type": "error",
     "traceback": [
      "\u001b[1;31m---------------------------------------------------------------------------\u001b[0m",
      "\u001b[1;31mAttributeError\u001b[0m                            Traceback (most recent call last)",
      "\u001b[1;32m<ipython-input-41-1b7069e3a9ab>\u001b[0m in \u001b[0;36m<module>\u001b[1;34m\u001b[0m\n\u001b[1;32m----> 1\u001b[1;33m \u001b[0mlst\u001b[0m\u001b[1;33m.\u001b[0m\u001b[0mclose\u001b[0m\u001b[1;33m(\u001b[0m\u001b[1;33m)\u001b[0m\u001b[1;33m\u001b[0m\u001b[0m\n\u001b[0m",
      "\u001b[1;31mAttributeError\u001b[0m: 'list' object has no attribute 'close'"
     ]
    }
   ],
   "source": [
    "lst.close()"
   ]
  },
  {
   "cell_type": "code",
   "execution_count": 42,
   "metadata": {},
   "outputs": [],
   "source": [
    "fl = open('C:\\\\Users\\\\user\\\\Desktop\\\\student.txt','a')"
   ]
  },
  {
   "cell_type": "code",
   "execution_count": 45,
   "metadata": {},
   "outputs": [],
   "source": [
    "fl.close()"
   ]
  },
  {
   "cell_type": "code",
   "execution_count": 47,
   "metadata": {},
   "outputs": [],
   "source": [
    "data = open('C:\\\\Users\\\\user\\\\Desktop\\\\student.txt','a')"
   ]
  },
  {
   "cell_type": "code",
   "execution_count": 50,
   "metadata": {},
   "outputs": [
    {
     "name": "stdout",
     "output_type": "stream",
     "text": [
      "<_io.TextIOWrapper name='C:\\\\Users\\\\user\\\\Desktop\\\\student.txt' mode='a' encoding='cp1252'>\n"
     ]
    }
   ],
   "source": [
    "print(data)"
   ]
  },
  {
   "cell_type": "code",
   "execution_count": 51,
   "metadata": {},
   "outputs": [],
   "source": [
    "data = data.write('total')"
   ]
  },
  {
   "cell_type": "code",
   "execution_count": 52,
   "metadata": {},
   "outputs": [
    {
     "ename": "AttributeError",
     "evalue": "'int' object has no attribute 'read'",
     "output_type": "error",
     "traceback": [
      "\u001b[1;31m---------------------------------------------------------------------------\u001b[0m",
      "\u001b[1;31mAttributeError\u001b[0m                            Traceback (most recent call last)",
      "\u001b[1;32m<ipython-input-52-f0c9f01ace67>\u001b[0m in \u001b[0;36m<module>\u001b[1;34m\u001b[0m\n\u001b[1;32m----> 1\u001b[1;33m \u001b[0mdat\u001b[0m \u001b[1;33m=\u001b[0m \u001b[0mdata\u001b[0m\u001b[1;33m.\u001b[0m\u001b[0mread\u001b[0m\u001b[1;33m(\u001b[0m\u001b[1;33m)\u001b[0m\u001b[1;33m\u001b[0m\u001b[0m\n\u001b[0m",
      "\u001b[1;31mAttributeError\u001b[0m: 'int' object has no attribute 'read'"
     ]
    }
   ],
   "source": []
  },
  {
   "cell_type": "code",
   "execution_count": 53,
   "metadata": {},
   "outputs": [
    {
     "ename": "AttributeError",
     "evalue": "'int' object has no attribute 'close'",
     "output_type": "error",
     "traceback": [
      "\u001b[1;31m---------------------------------------------------------------------------\u001b[0m",
      "\u001b[1;31mAttributeError\u001b[0m                            Traceback (most recent call last)",
      "\u001b[1;32m<ipython-input-53-61149e794762>\u001b[0m in \u001b[0;36m<module>\u001b[1;34m\u001b[0m\n\u001b[1;32m----> 1\u001b[1;33m \u001b[0mdata\u001b[0m\u001b[1;33m.\u001b[0m\u001b[0mclose\u001b[0m\u001b[1;33m(\u001b[0m\u001b[1;33m)\u001b[0m\u001b[1;33m\u001b[0m\u001b[0m\n\u001b[0m",
      "\u001b[1;31mAttributeError\u001b[0m: 'int' object has no attribute 'close'"
     ]
    }
   ],
   "source": [
    "data.close()"
   ]
  },
  {
   "cell_type": "code",
   "execution_count": 55,
   "metadata": {},
   "outputs": [],
   "source": [
    " fl = open('C:\\\\Users\\\\user\\\\Desktop\\\\readme.txt','r')"
   ]
  },
  {
   "cell_type": "code",
   "execution_count": 56,
   "metadata": {},
   "outputs": [],
   "source": [
    "result = fl.read()"
   ]
  },
  {
   "cell_type": "code",
   "execution_count": 57,
   "metadata": {},
   "outputs": [
    {
     "name": "stdout",
     "output_type": "stream",
     "text": [
      "Title:  Bag of Words Data Set\n",
      "\n",
      "Abstract: This data set contains five text collections in the form of bags-of-words.\n",
      "\n",
      "-----------------------------------------------------\t\n",
      "\n",
      "Data Set Characteristics: Text\n",
      "Number of Instances: 8000000\n",
      "Area: N/A\n",
      "Attribute Characteristics: Integer\n",
      "Number of Attributes: 100000\n",
      "Date Donated: 2008-03-12\n",
      "Associated Tasks: Clustering\n",
      "Missing Values? N/A\n",
      "\n",
      "-----------------------------------------------------\t\t\n",
      "\n",
      "Source:\n",
      "\n",
      "David Newman\n",
      "newman '@' uci.edu\n",
      "University of California, Irvine\n",
      "\n",
      "-----------------------------------------------------\t\n",
      "\n",
      "Data Set Information:\n",
      "\n",
      "For each text collection, D is the number of documents, W is the\n",
      "number of words in the vocabulary, and N is the total number of words\n",
      "in the collection (below, NNZ is the number of nonzero counts in the\n",
      "bag-of-words). After tokenization and removal of stopwords, the\n",
      "vocabulary of unique words was truncated by only keeping words that\n",
      "occurred more than ten times. Individual document names (i.e. a\n",
      "identifier for each docID) are not provided for copyright reasons.\n",
      "\n",
      "These data sets have no class labels, and for copyright reasons no\n",
      "filenames or other document-level metadata.  These data sets are ideal\n",
      "for clustering and topic modeling experiments.\n",
      "\n",
      "For each text collection we provide docword.*.txt (the bag of words\n",
      "file in sparse format) and vocab.*.txt (the vocab file).\n",
      "\n",
      "Enron Emails:\n",
      "orig source: www.cs.cmu.edu/~enron\n",
      "D=39861\n",
      "W=28102\n",
      "N=6,400,000 (approx)\n",
      "\n",
      "NIPS full papers:\n",
      "orig source: books.nips.cc\n",
      "D=1500\n",
      "W=12419\n",
      "N=1,900,000 (approx)\n",
      "\n",
      "KOS blog entries:\n",
      "orig source: dailykos.com\n",
      "D=3430\n",
      "W=6906\n",
      "N=467714\n",
      "\n",
      "NYTimes news articles:\n",
      "orig source: ldc.upenn.edu\n",
      "D=300000\n",
      "W=102660\n",
      "N=100,000,000 (approx)\n",
      "\n",
      "PubMed abstracts:\n",
      "orig source: www.pubmed.gov\n",
      "D=8200000\n",
      "W=141043\n",
      "N=730,000,000 (approx)\n",
      "\n",
      "\n",
      "-----------------------------------------------------\t\n",
      "\n",
      "Attribute Information:\n",
      "\n",
      "The format of the docword.*.txt file is 3 header lines, followed by\n",
      "NNZ triples:\n",
      "---\n",
      "D\n",
      "W\n",
      "NNZ\n",
      "docID wordID count\n",
      "docID wordID count\n",
      "docID wordID count\n",
      "docID wordID count\n",
      "...\n",
      "docID wordID count\n",
      "docID wordID count\n",
      "docID wordID count\n",
      "---\n",
      "\n",
      "The format of the vocab.*.txt file is line contains wordID=n.\n",
      "\n",
      "\n"
     ]
    }
   ],
   "source": [
    "print(result)"
   ]
  },
  {
   "cell_type": "code",
   "execution_count": 59,
   "metadata": {},
   "outputs": [],
   "source": [
    "fl.close()"
   ]
  },
  {
   "cell_type": "code",
   "execution_count": 60,
   "metadata": {},
   "outputs": [
    {
     "ename": "AttributeError",
     "evalue": "'_io.TextIOWrapper' object has no attribute 'split'",
     "output_type": "error",
     "traceback": [
      "\u001b[1;31m---------------------------------------------------------------------------\u001b[0m",
      "\u001b[1;31mAttributeError\u001b[0m                            Traceback (most recent call last)",
      "\u001b[1;32m<ipython-input-60-02ef1867f954>\u001b[0m in \u001b[0;36m<module>\u001b[1;34m\u001b[0m\n\u001b[1;32m----> 1\u001b[1;33m \u001b[0mft\u001b[0m \u001b[1;33m=\u001b[0m \u001b[0mfl\u001b[0m\u001b[1;33m.\u001b[0m\u001b[0msplit\u001b[0m\u001b[1;33m(\u001b[0m\u001b[1;33m)\u001b[0m\u001b[1;33m\u001b[0m\u001b[0m\n\u001b[0m",
      "\u001b[1;31mAttributeError\u001b[0m: '_io.TextIOWrapper' object has no attribute 'split'"
     ]
    }
   ],
   "source": [
    "ft = fl.split()"
   ]
  },
  {
   "cell_type": "code",
   "execution_count": 63,
   "metadata": {},
   "outputs": [],
   "source": [
    "fs = open('C:\\\\Users\\\\user\\\\Desktop\\\\student.txt','a')"
   ]
  },
  {
   "cell_type": "code",
   "execution_count": 64,
   "metadata": {},
   "outputs": [
    {
     "ename": "AttributeError",
     "evalue": "'_io.TextIOWrapper' object has no attribute 'split'",
     "output_type": "error",
     "traceback": [
      "\u001b[1;31m---------------------------------------------------------------------------\u001b[0m",
      "\u001b[1;31mAttributeError\u001b[0m                            Traceback (most recent call last)",
      "\u001b[1;32m<ipython-input-64-09de02d202bf>\u001b[0m in \u001b[0;36m<module>\u001b[1;34m\u001b[0m\n\u001b[1;32m----> 1\u001b[1;33m \u001b[0mfl\u001b[0m \u001b[1;33m=\u001b[0m \u001b[0mfs\u001b[0m\u001b[1;33m.\u001b[0m\u001b[0msplit\u001b[0m\u001b[1;33m(\u001b[0m\u001b[1;33m)\u001b[0m\u001b[1;33m\u001b[0m\u001b[0m\n\u001b[0m",
      "\u001b[1;31mAttributeError\u001b[0m: '_io.TextIOWrapper' object has no attribute 'split'"
     ]
    }
   ],
   "source": [
    "fl = fs.split()"
   ]
  },
  {
   "cell_type": "code",
   "execution_count": 65,
   "metadata": {},
   "outputs": [
    {
     "ename": "UnsupportedOperation",
     "evalue": "not readable",
     "output_type": "error",
     "traceback": [
      "\u001b[1;31m---------------------------------------------------------------------------\u001b[0m",
      "\u001b[1;31mUnsupportedOperation\u001b[0m                      Traceback (most recent call last)",
      "\u001b[1;32m<ipython-input-65-5917b8058633>\u001b[0m in \u001b[0;36m<module>\u001b[1;34m\u001b[0m\n\u001b[1;32m----> 1\u001b[1;33m \u001b[0mfl\u001b[0m \u001b[1;33m=\u001b[0m  \u001b[0mfs\u001b[0m\u001b[1;33m.\u001b[0m\u001b[0mreadlines\u001b[0m\u001b[1;33m(\u001b[0m\u001b[1;33m)\u001b[0m\u001b[1;33m\u001b[0m\u001b[0m\n\u001b[0m",
      "\u001b[1;31mUnsupportedOperation\u001b[0m: not readable"
     ]
    }
   ],
   "source": [
    "fl =  fs.readlines()"
   ]
  },
  {
   "cell_type": "code",
   "execution_count": 66,
   "metadata": {},
   "outputs": [],
   "source": [
    "fs.close()"
   ]
  },
  {
   "cell_type": "code",
   "execution_count": 67,
   "metadata": {},
   "outputs": [],
   "source": [
    "fil = open('C:\\\\Users\\\\user\\\\Desktop\\\\student.txt','a')"
   ]
  },
  {
   "cell_type": "code",
   "execution_count": 69,
   "metadata": {},
   "outputs": [
    {
     "name": "stdout",
     "output_type": "stream",
     "text": [
      "<_io.TextIOWrapper name='C:\\\\Users\\\\user\\\\Desktop\\\\student.txt' mode='a' encoding='cp1252'>\n"
     ]
    }
   ],
   "source": [
    "print(repr(fil))"
   ]
  },
  {
   "cell_type": "code",
   "execution_count": 70,
   "metadata": {},
   "outputs": [
    {
     "data": {
      "text/plain": [
       "\"<_io.TextIOWrapper name='C:\\\\\\\\Users\\\\\\\\user\\\\\\\\Desktop\\\\\\\\student.txt' mode='a' encoding='cp1252'>\""
      ]
     },
     "execution_count": 70,
     "metadata": {},
     "output_type": "execute_result"
    }
   ],
   "source": [
    "repr(fil)"
   ]
  },
  {
   "cell_type": "code",
   "execution_count": 71,
   "metadata": {},
   "outputs": [
    {
     "ename": "UnsupportedOperation",
     "evalue": "not readable",
     "output_type": "error",
     "traceback": [
      "\u001b[1;31m---------------------------------------------------------------------------\u001b[0m",
      "\u001b[1;31mUnsupportedOperation\u001b[0m                      Traceback (most recent call last)",
      "\u001b[1;32m<ipython-input-71-932b3983a55f>\u001b[0m in \u001b[0;36m<module>\u001b[1;34m\u001b[0m\n\u001b[1;32m----> 1\u001b[1;33m \u001b[0mresult\u001b[0m \u001b[1;33m=\u001b[0m \u001b[0mfil\u001b[0m\u001b[1;33m.\u001b[0m\u001b[0mread\u001b[0m\u001b[1;33m(\u001b[0m\u001b[1;33m)\u001b[0m\u001b[1;33m\u001b[0m\u001b[0m\n\u001b[0m",
      "\u001b[1;31mUnsupportedOperation\u001b[0m: not readable"
     ]
    }
   ],
   "source": [
    "result = fil.read()"
   ]
  },
  {
   "cell_type": "code",
   "execution_count": 72,
   "metadata": {},
   "outputs": [],
   "source": [
    "fil.close()"
   ]
  },
  {
   "cell_type": "code",
   "execution_count": 2,
   "metadata": {},
   "outputs": [],
   "source": [
    "fl = open('C:\\\\Users\\\\user\\\\Desktop\\\\student.txt','r')"
   ]
  },
  {
   "cell_type": "code",
   "execution_count": 3,
   "metadata": {},
   "outputs": [],
   "source": [
    "result = fl.read()"
   ]
  },
  {
   "cell_type": "code",
   "execution_count": 4,
   "metadata": {},
   "outputs": [],
   "source": [
    "fl.close()"
   ]
  },
  {
   "cell_type": "code",
   "execution_count": 5,
   "metadata": {},
   "outputs": [
    {
     "name": "stdout",
     "output_type": "stream",
     "text": [
      "id\tname\thindi\teng\tmath\n",
      "1\tsachin\t56\t74\t78\n",
      "2\tmeena\t66\t76\t89\n",
      "3\tjeetu\t78\t76\t89\n",
      "4\tmanish\t87\t87\t67\n",
      "5\tneha\t90\t98\t97\n",
      "6\tram\t89\t92\t98\n"
     ]
    }
   ],
   "source": [
    "print(result)"
   ]
  },
  {
   "cell_type": "code",
   "execution_count": 6,
   "metadata": {},
   "outputs": [
    {
     "name": "stdout",
     "output_type": "stream",
     "text": [
      "'id\\tname\\thindi\\teng\\tmath\\n1\\tsachin\\t56\\t74\\t78\\n2\\tmeena\\t66\\t76\\t89\\n3\\tjeetu\\t78\\t76\\t89\\n4\\tmanish\\t87\\t87\\t67\\n5\\tneha\\t90\\t98\\t97\\n6\\tram\\t89\\t92\\t98'\n"
     ]
    }
   ],
   "source": [
    "print(repr(result))"
   ]
  },
  {
   "cell_type": "code",
   "execution_count": 9,
   "metadata": {},
   "outputs": [
    {
     "name": "stdout",
     "output_type": "stream",
     "text": [
      "id\tname\thindi\teng\tmath\n",
      "1\tsachin\t56\t74\t78\n",
      "2\tmeena\t66\t76\t89\n",
      "3\tjeetu\t78\t76\t89\n",
      "4\tmanish\t87\t87\t67\n",
      "5\tneha\t90\t98\t97\n",
      "6\tram\t89\t92\t98\n"
     ]
    }
   ],
   "source": [
    "print(result)"
   ]
  },
  {
   "cell_type": "code",
   "execution_count": 54,
   "metadata": {},
   "outputs": [],
   "source": [
    "res = result.split('\\n')"
   ]
  },
  {
   "cell_type": "code",
   "execution_count": 55,
   "metadata": {},
   "outputs": [
    {
     "name": "stdout",
     "output_type": "stream",
     "text": [
      "id\tname\thindi\teng\tmath\n"
     ]
    }
   ],
   "source": [
    "\n",
    "colname = res[0]\n",
    "res = res[1:]\n",
    "print(colname)\n"
   ]
  },
  {
   "cell_type": "code",
   "execution_count": 40,
   "metadata": {
    "scrolled": true
   },
   "outputs": [
    {
     "name": "stdout",
     "output_type": "stream",
     "text": [
      "'3\\tjeetu\\t78\\t76\\t89'\n",
      "'4\\tmanish\\t87\\t87\\t67'\n",
      "'5\\tneha\\t90\\t98\\t97'\n",
      "'6\\tram\\t89\\t92\\t98'\n"
     ]
    }
   ],
   "source": [
    "for data in res : \n",
    "    print(repr(data))"
   ]
  },
  {
   "cell_type": "code",
   "execution_count": 56,
   "metadata": {},
   "outputs": [
    {
     "name": "stdout",
     "output_type": "stream",
     "text": [
      "1\tsachin\t56\t74\t78\t69.33\n",
      "2\tmeena\t66\t76\t89\t77.0\n",
      "3\tjeetu\t78\t76\t89\t81.0\n",
      "4\tmanish\t87\t87\t67\t80.33\n",
      "5\tneha\t90\t98\t97\t95.0\n",
      "6\tram\t89\t92\t98\t93.0\n"
     ]
    }
   ],
   "source": [
    "dataset = []\n",
    "for line in res : \n",
    "    d = line.split('\\t')\n",
    "    d[2] = int(d[2])\n",
    "    d[3] = int(d[3])\n",
    "    d[4] = int(d[4])\n",
    "    d.append((d[2]+d[3]+d[4])/3)\n",
    "    d[2] = str(d[2])\n",
    "    d[3] = str(d[3])\n",
    "    d[4] = str(d[4])\n",
    "    d[5] = str(round(d[5],2))\n",
    "    d = '\\t'.join(d)\n",
    "    dataset.append(d)\n",
    "final_data = '\\n'.join(dataset)\n",
    "print(final_data)\n"
   ]
  },
  {
   "cell_type": "code",
   "execution_count": 57,
   "metadata": {},
   "outputs": [
    {
     "name": "stdout",
     "output_type": "stream",
     "text": [
      "'1\\tsachin\\t56\\t74\\t78\\t69.33\\n2\\tmeena\\t66\\t76\\t89\\t77.0\\n3\\tjeetu\\t78\\t76\\t89\\t81.0\\n4\\tmanish\\t87\\t87\\t67\\t80.33\\n5\\tneha\\t90\\t98\\t97\\t95.0\\n6\\tram\\t89\\t92\\t98\\t93.0'\n"
     ]
    }
   ],
   "source": [
    "print(repr(final_data))"
   ]
  },
  {
   "cell_type": "code",
   "execution_count": 58,
   "metadata": {},
   "outputs": [
    {
     "name": "stdout",
     "output_type": "stream",
     "text": [
      "'id\\tname\\thindi\\teng\\tmath'\n"
     ]
    }
   ],
   "source": [
    "print(repr(colname))"
   ]
  },
  {
   "cell_type": "code",
   "execution_count": 59,
   "metadata": {},
   "outputs": [
    {
     "name": "stdout",
     "output_type": "stream",
     "text": [
      "id\tname\thindi\teng\tmath\n",
      "1\tsachin\t56\t74\t78\t69.33\n",
      "2\tmeena\t66\t76\t89\t77.0\n",
      "3\tjeetu\t78\t76\t89\t81.0\n",
      "4\tmanish\t87\t87\t67\t80.33\n",
      "5\tneha\t90\t98\t97\t95.0\n",
      "6\tram\t89\t92\t98\t93.0\n"
     ]
    }
   ],
   "source": [
    "final_data = colname+'\\n'+final_data\n",
    "print(final_data)"
   ]
  },
  {
   "cell_type": "code",
   "execution_count": 132,
   "metadata": {},
   "outputs": [
    {
     "name": "stdout",
     "output_type": "stream",
     "text": [
      "C:\\Users\\user\\Desktop\\student.txt\n",
      "C:\\Users\\user\\Desktop\n",
      "C:\\Users\\user\\Desktop\\_result.txt\n"
     ]
    }
   ],
   "source": [
    "import os\n",
    "path = 'C:\\\\Users\\\\user\\\\Desktop\\\\student.txt'\n",
    "dir_name = os.path.dirname(path)\n",
    "new_path = os.path.join(dir_name,'_result.txt')\n",
    "print(f\"{path}\")\n",
    "print(f\"{dir_name}\")\n",
    "print(f\"{new_path}\")"
   ]
  },
  {
   "cell_type": "code",
   "execution_count": 145,
   "metadata": {},
   "outputs": [
    {
     "name": "stdout",
     "output_type": "stream",
     "text": [
      "'C:\\\\Users\\\\user\\\\Desktop\\\\student.txt'\n",
      "['C:', 'Users', 'user', 'Desktop', 'student.txt']\n",
      "student.txt\n",
      "['student', 'txt']\n",
      "student_result.txt\n",
      "C:\\Users\\user\\Desktop\\student_result.txt\n"
     ]
    }
   ],
   "source": [
    "print(repr(path))\n",
    "d = path.split('\\\\')\n",
    "print(d)\n",
    "d = d[-1]\n",
    "print(d)\n",
    "d = d.split('.')\n",
    "print(d)\n",
    "newpath= d[0]+'_result.'+d[1]\n",
    "print(newpath)\n",
    "fname = os.path.join(dir_name,newpath)\n",
    "print(fname)\n",
    "fp = open(fname,'w')\n",
    "fp.write(final_data)\n",
    "fp.close()\n",
    "\n"
   ]
  },
  {
   "cell_type": "code",
   "execution_count": null,
   "metadata": {},
   "outputs": [],
   "source": []
  },
  {
   "cell_type": "code",
   "execution_count": 86,
   "metadata": {},
   "outputs": [
    {
     "name": "stdout",
     "output_type": "stream",
     "text": [
      "id\n",
      "name\n",
      "hindi\n",
      "eng\n",
      "math\n",
      "1\n",
      "sachin\n",
      "56\n",
      "74\n",
      "78\n",
      "2\n",
      "meena\n",
      "66\n",
      "76\n",
      "89\n",
      "3\n",
      "jeetu\n",
      "78\n",
      "76\n",
      "89\n",
      "4\n",
      "manish\n",
      "87\n",
      "87\n",
      "67\n",
      "5\n",
      "neha\n",
      "90\n",
      "98\n",
      "97\n",
      "6\n",
      "ram\n",
      "89\n",
      "92\n",
      "98\n",
      "total\n"
     ]
    }
   ],
   "source": [
    "for i in res:\n",
    "    print(i)"
   ]
  },
  {
   "cell_type": "code",
   "execution_count": 99,
   "metadata": {},
   "outputs": [
    {
     "name": "stdout",
     "output_type": "stream",
     "text": [
      "['id', 'name', 'hindi', 'eng', 'math', '1', 'sachin', '56', '74', '78', '2', 'meena', '66', '76', '89', '3', 'jeetu', '78', '76', '89', '4', 'manish', '87', '87', '67', '5', 'neha', '90', '98', '97', '6', 'ram', '89', '92', '98', 'total']\n"
     ]
    }
   ],
   "source": [
    "print(lst)"
   ]
  },
  {
   "cell_type": "code",
   "execution_count": 101,
   "metadata": {},
   "outputs": [
    {
     "data": {
      "text/plain": [
       "\"['id', 'name', 'hindi', 'eng', 'math', '1', 'sachin', '56', '74', '78', '2', 'meena', '66', '76', '89', '3', 'jeetu', '78', '76', '89', '4', 'manish', '87', '87', '67', '5', 'neha', '90', '98', '97', '6', 'ram', '89', '92', '98', 'total']\""
      ]
     },
     "execution_count": 101,
     "metadata": {},
     "output_type": "execute_result"
    }
   ],
   "source": [
    "repr(lst)"
   ]
  },
  {
   "cell_type": "code",
   "execution_count": null,
   "metadata": {},
   "outputs": [],
   "source": []
  }
 ],
 "metadata": {
  "kernelspec": {
   "display_name": "Python 3",
   "language": "python",
   "name": "python3"
  },
  "language_info": {
   "codemirror_mode": {
    "name": "ipython",
    "version": 3
   },
   "file_extension": ".py",
   "mimetype": "text/x-python",
   "name": "python",
   "nbconvert_exporter": "python",
   "pygments_lexer": "ipython3",
   "version": "3.7.0"
  }
 },
 "nbformat": 4,
 "nbformat_minor": 2
}
