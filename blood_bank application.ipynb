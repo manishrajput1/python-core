{
 "cells": [
  {
   "cell_type": "code",
   "execution_count": 1,
   "metadata": {},
   "outputs": [],
   "source": [
    "data = {\n",
    "    1001:{'name':'manish','pass':'mann123','blood_group':'B+','age':'21','weight':'63','current_city':'jaipur','mob_no':9166319212,'blood_unit':2},\n",
    "    1002:{'name':'krishna','pass':'krishna143','blood_group':'A+','age':'22','waight':'60','current_city':'sikar','mob_no':9649975463,'blood_unit':3},\n",
    "    1003:{'name':'mohan','pass':'mohan143','blood_group':'O-tive','age':'25','waight':'65','current_city':'delhi','mob_no':9167658212,'blood_unit':3},\n",
    "    \n",
    "    \n",
    "    \n",
    "}\n",
    "from getpass import getpass"
   ]
  },
  {
   "cell_type": "code",
   "execution_count": 2,
   "metadata": {},
   "outputs": [],
   "source": [
    "def signup():\n",
    "    name = input(\"Enter your name:\")\n",
    "    pas =  input(\"Enter your password:\")\n",
    "    blodd = input(\"Enter your blood group:\")\n",
    "    age = input(\"Enter your age:\")\n",
    "    weight = input(\"Enter your weight:\")\n",
    "    current = input(\"Enter your city:\")\n",
    "    mobile = int(input(\"Enter your mobile number:\"))\n",
    "    blood = int(input(\"Enter your blood_unit:\"))\n",
    "    a=sorted(list(data.keys()))\n",
    "    id_no = a[-1] +1\n",
    "    data[id_no] ={'name':name,'pass':pas,'blood_group':blodd,'age':age,'waight':waight,'current_city':current,'mobile':mobile,'blood_unit':blood}\n",
    "    print(\"\\n\\nyour account successfully created\\n\")\n",
    "    print(f\"\\n\\n your id number is {id_no} \\n\\n\")\n",
    "    num = input(\"Enter any key to coninue:\")\n",
    "    login()\n",
    "        \n",
    "    \n",
    "\n",
    "    \n",
    "    "
   ]
  },
  {
   "cell_type": "code",
   "execution_count": 3,
   "metadata": {},
   "outputs": [],
   "source": [
    "def helpline(id_no):\n",
    "    print(\"\\nwelcome to blood_bank helpline service:\")\n",
    "    print(f\"\\n\\nif you have any issue with blood bank service call our customer care number 9166319212\")\n",
    "    print(f\"thank you! for choosing blood bank service\")\n",
    "    n= input(\"Enter any key...\")\n",
    "    if n:\n",
    "        main()"
   ]
  },
  {
   "cell_type": "code",
   "execution_count": 4,
   "metadata": {},
   "outputs": [],
   "source": [
    "def withdraw(id_no):\n",
    "    print(\"\\nwelcome to blood_bank withdrow service:\")\n",
    "    print(f\"\\n\\nyour blood balance is {data[id_no]['blood_unit']}\")\n",
    "    unit=int(input(\"enter blood_unit you want to withdrow:\"))\n",
    "    un =unit      \n",
    "    data[id_no]['blood_unit'] -= unit\n",
    "    print(f\"\\nyour blood successfully withdrow with unit {un} your current blood_unit is {unit}\")\n",
    "    n = input(\"Enter any key for go to homepage...\")\n",
    "    if n:\n",
    "        main()\n",
    "     "
   ]
  },
  {
   "cell_type": "code",
   "execution_count": 5,
   "metadata": {},
   "outputs": [],
   "source": [
    "def transfer(id_no):\n",
    "    print(\"\\nwelcome to blood_transfer service:\")\n",
    "    print(f\"\\n\\nyour blood balance is {data[id_no]['blood_unit']}\")\n",
    "    unit=int(input(\"enter blood_unit you want to transfer:\"))\n",
    "    un =unit      \n",
    "    print(\"\\n\\nEnter the mobile number of the friend you wish to transfer blood to \")\n",
    "    mob=int(input(\"Enter your friend mobile number:\"))\n",
    "    data[id_no]['blood_unit'] -= unit \n",
    "    print(f\"\\nyour blood successfully transfered with unit {un} your current blood_unit is {unit}\")\n",
    "    service(id_no)       \n",
    "     \n",
    "    \n",
    "    "
   ]
  },
  {
   "cell_type": "code",
   "execution_count": 6,
   "metadata": {},
   "outputs": [],
   "source": [
    "def save(id_no):\n",
    "    print(\"\\nwelcome to blood_bank saving service:\")\n",
    "    print(f\"\\n\\nyour blood balance is {data[id_no]['blood_unit']}\")\n",
    "    unit=int(input(\"enter blood_unit you want to save:\"))\n",
    "    un =unit      \n",
    "    unit += data[id_no]['blood_unit']\n",
    "    print(f\"\\nyour blood successfully save with unit {un} your current blood_unit is {unit}\")\n",
    "    service(id_no)       "
   ]
  },
  {
   "cell_type": "code",
   "execution_count": 7,
   "metadata": {},
   "outputs": [],
   "source": [
    "def service(id_no):\n",
    "    print(\"\\nchoose one of the service:\")\n",
    "    print(\"\\n\\n1.save\\n\\n2.transfer\\n\\n3.withdraw\\n\\n4.helpline\")\n",
    "    ch=int(input(\"Enter your choice number:\"))\n",
    "    if ch==1:\n",
    "        save(id_no)\n",
    "    elif ch==2:\n",
    "        transfer(id_no)\n",
    "    elif ch==3:\n",
    "        withdraw(id_no)\n",
    "    elif ch==4:\n",
    "        helpline(id_no)\n",
    "    else:\n",
    "        print(\"you entered invalid choice plz try again:\")\n",
    "        service(id_no)\n",
    "        \n",
    "        \n",
    "    "
   ]
  },
  {
   "cell_type": "code",
   "execution_count": 8,
   "metadata": {},
   "outputs": [],
   "source": [
    "def login():\n",
    "    print(\"welcome to login service:..\")\n",
    "    id_no = int(input(\"Enter your id number:\"))\n",
    "    if id_no in data.keys():\n",
    "        from getpass import getpass \n",
    "        password = input(\"Enter your password:\")\n",
    "        if password == data[id_no]['pass']:\n",
    "            print(\"\\n you logged in successfully:\")\n",
    "            service(id_no)\n",
    "        else:\n",
    "            print(\"invalid password..plz try again\")\n",
    "            login()\n",
    "    else:\n",
    "        print(\"your id_no is not exist...go to signup:\")\n",
    "        main()\n",
    "    \n",
    "    "
   ]
  },
  {
   "cell_type": "code",
   "execution_count": null,
   "metadata": {},
   "outputs": [
    {
     "name": "stdout",
     "output_type": "stream",
     "text": [
      "********  welcome to blood bank service   ********\n",
      "\n",
      "\n",
      "1.login\n",
      "\n",
      "2.signup\n",
      "\n",
      "3.exit\n",
      "\n",
      "\n",
      "Enter your choice:..1\n",
      "welcome to login service:..\n",
      "Enter your id number:1001\n",
      "Enter your password:mann123\n",
      "\n",
      " you logged in successfully:\n",
      "\n",
      "choose one of the service:\n",
      "\n",
      "\n",
      "1.save\n",
      "\n",
      "2.transfer\n",
      "\n",
      "3.withdraw\n",
      "\n",
      "4.helpline\n",
      "Enter your choice number:2\n",
      "\n",
      "welcome to blood_transfer service:\n",
      "\n",
      "\n",
      "your blood balance is 2\n",
      "enter blood_unit you want to transfer:1\n",
      "\n",
      "\n",
      "Enter the mobile number of the friend you wish to transfer blood to \n",
      "Enter your friend mobile number:9166319212\n",
      "\n",
      "your blood successfully transfered with unit 1 your current blood_unit is 1\n",
      "\n",
      "choose one of the service:\n",
      "\n",
      "\n",
      "1.save\n",
      "\n",
      "2.transfer\n",
      "\n",
      "3.withdraw\n",
      "\n",
      "4.helpline\n"
     ]
    }
   ],
   "source": [
    "def main():\n",
    "    print((\"  welcome to blood bank service   \").center(50,\"*\"))\n",
    "    print(\"\\n\\n1.login\\n\\n2.signup\\n\\n3.exit\\n\\n\")\n",
    "    ch = int(input(\"Enter your choice:..\"))\n",
    "    if ch == 1:\n",
    "        login()\n",
    "    elif ch == 2:\n",
    "        signup()\n",
    "    elif ch == 3:\n",
    "        main()\n",
    "    else:\n",
    "        print(\"ivalid choice plz try again...\")\n",
    "main()"
   ]
  },
  {
   "cell_type": "code",
   "execution_count": null,
   "metadata": {},
   "outputs": [],
   "source": []
  },
  {
   "cell_type": "code",
   "execution_count": null,
   "metadata": {},
   "outputs": [],
   "source": []
  },
  {
   "cell_type": "code",
   "execution_count": null,
   "metadata": {},
   "outputs": [],
   "source": []
  }
 ],
 "metadata": {
  "kernelspec": {
   "display_name": "Python 3",
   "language": "python",
   "name": "python3"
  },
  "language_info": {
   "codemirror_mode": {
    "name": "ipython",
    "version": 3
   },
   "file_extension": ".py",
   "mimetype": "text/x-python",
   "name": "python",
   "nbconvert_exporter": "python",
   "pygments_lexer": "ipython3",
   "version": "3.7.0"
  }
 },
 "nbformat": 4,
 "nbformat_minor": 2
}
